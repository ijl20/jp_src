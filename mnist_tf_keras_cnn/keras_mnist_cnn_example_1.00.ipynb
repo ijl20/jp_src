{
 "cells": [
  {
   "cell_type": "markdown",
   "metadata": {},
   "source": [
    "# MNIST digits CNN using Keras / tensorflow"
   ]
  },
  {
   "cell_type": "code",
   "execution_count": 1,
   "metadata": {},
   "outputs": [],
   "source": [
    "import tensorflow as tf\n",
    "(x_train, y_train), (x_test, y_test) = tf.keras.datasets.mnist.load_data()"
   ]
  },
  {
   "cell_type": "code",
   "execution_count": 2,
   "metadata": {},
   "outputs": [
    {
     "name": "stdout",
     "output_type": "stream",
     "text": [
      "8\n"
     ]
    },
    {
     "data": {
      "text/plain": [
       "<matplotlib.image.AxesImage at 0x7fc5432243c8>"
      ]
     },
     "execution_count": 2,
     "metadata": {},
     "output_type": "execute_result"
    },
    {
     "data": {
      "image/png": "[encoded data removed]",
      "text/plain": [
       "<Figure size 432x288 with 1 Axes>"
      ]
     },
     "metadata": {
      "needs_background": "light"
     },
     "output_type": "display_data"
    }
   ],
   "source": [
    "import matplotlib.pyplot as plt\n",
    "%matplotlib inline\n",
    "image_index = 7777 # You may select anything up to 60,000\n",
    "print(y_train[image_index]) # The label is 8\n",
    "plt.imshow(x_train[image_index], cmap='Greys')"
   ]
  },
  {
   "cell_type": "code",
   "execution_count": 3,
   "metadata": {},
   "outputs": [
    {
     "data": {
      "text/plain": [
       "(60000, 28, 28)"
      ]
     },
     "execution_count": 3,
     "metadata": {},
     "output_type": "execute_result"
    }
   ],
   "source": [
    "x_train.shape"
   ]
  },
  {
   "cell_type": "code",
   "execution_count": 4,
   "metadata": {},
   "outputs": [
    {
     "name": "stdout",
     "output_type": "stream",
     "text": [
      "x_train shape: (60000, 28, 28, 1)\n",
      "Number of images in x_train 60000\n",
      "Number of images in x_test 10000\n",
      "y_train shape: (60000, 10)\n"
     ]
    }
   ],
   "source": [
    "# Reshaping the array to 4-dims so that it can work with the Keras API\n",
    "x_train = x_train.reshape(x_train.shape[0], 28, 28, 1)\n",
    "x_test = x_test.reshape(x_test.shape[0], 28, 28, 1)\n",
    "input_shape = (28, 28, 1)\n",
    "# Making sure that the values are float so that we can get decimal points after division\n",
    "x_train = x_train.astype('float32')\n",
    "x_test = x_test.astype('float32')\n",
    "# Normalizing the RGB codes by dividing it to the max RGB value.\n",
    "x_train /= 255\n",
    "x_test /= 255\n",
    "print('x_train shape:', x_train.shape)\n",
    "print('Number of images in x_train', x_train.shape[0])\n",
    "print('Number of images in x_test', x_test.shape[0])\n",
    "# convert labels to one-hot with 10 classes\n",
    "y_train = tf.keras.utils.to_categorical(y_train, 10)\n",
    "y_test = tf.keras.utils.to_categorical(y_test, 10)\n",
    "print('y_train shape:', y_train.shape)"
   ]
  },
  {
   "cell_type": "code",
   "execution_count": 5,
   "metadata": {},
   "outputs": [],
   "source": [
    "# Importing the required Keras modules containing model and layers\n",
    "from tensorflow.keras.models import Sequential\n",
    "from tensorflow.keras.layers import Dense, Conv2D, Dropout, Flatten, MaxPooling2D\n",
    "# Creating a Sequential Model and adding the layers\n",
    "model = Sequential()\n",
    "model.add(Conv2D(32, kernel_size=(3, 3),\n",
    "                 activation='relu',\n",
    "                 input_shape=input_shape))\n",
    "model.add(Conv2D(64, (3, 3), activation='relu'))\n",
    "model.add(MaxPooling2D(pool_size=(2, 2)))\n",
    "model.add(Dropout(0.25))\n",
    "model.add(Flatten())\n",
    "model.add(Dense(128, activation='relu'))\n",
    "model.add(Dropout(0.5))\n",
    "model.add(Dense(10, activation='softmax'))\n"
   ]
  },
  {
   "cell_type": "code",
   "execution_count": 6,
   "metadata": {},
   "outputs": [
    {
     "name": "stderr",
     "output_type": "stream",
     "text": [
      "WARNING: Logging before flag parsing goes to stderr.\n",
      "W0729 10:29:56.599877 140486682163008 deprecation.py:323] From /home/ijl20/src/jupyterlab/venv/lib/python3.6/site-packages/tensorflow/python/ops/math_grad.py:1250: add_dispatch_support.<locals>.wrapper (from tensorflow.python.ops.array_ops) is deprecated and will be removed in a future version.\n",
      "Instructions for updating:\n",
      "Use tf.where in 2.0, which has the same broadcast rule as np.where\n"
     ]
    },
    {
     "name": "stdout",
     "output_type": "stream",
     "text": [
      "Train on 60000 samples, validate on 10000 samples\n",
      "Epoch 1/12\n",
      "60000/60000 [==============================] - 52s 866us/sample - loss: 2.2820 - accuracy: 0.1443 - val_loss: 2.2366 - val_accuracy: 0.3168\n",
      "Epoch 2/12\n",
      "60000/60000 [==============================] - 50s 841us/sample - loss: 2.2050 - accuracy: 0.2665 - val_loss: 2.1381 - val_accuracy: 0.5004\n",
      "Epoch 3/12\n",
      "60000/60000 [==============================] - 52s 860us/sample - loss: 2.1045 - accuracy: 0.3764 - val_loss: 2.0084 - val_accuracy: 0.5847\n",
      "Epoch 4/12\n",
      "60000/60000 [==============================] - 52s 871us/sample - loss: 1.9734 - accuracy: 0.4583 - val_loss: 1.8429 - val_accuracy: 0.6378\n",
      "Epoch 5/12\n",
      "60000/60000 [==============================] - 53s 877us/sample - loss: 1.8175 - accuracy: 0.5207 - val_loss: 1.6470 - val_accuracy: 0.6830\n",
      "Epoch 6/12\n",
      "60000/60000 [==============================] - 58s 973us/sample - loss: 1.6400 - accuracy: 0.5681 - val_loss: 1.4377 - val_accuracy: 0.7259\n",
      "Epoch 7/12\n",
      "60000/60000 [==============================] - 60s 1ms/sample - loss: 1.4668 - accuracy: 0.6056 - val_loss: 1.2387 - val_accuracy: 0.7608\n",
      "Epoch 8/12\n",
      "60000/60000 [==============================] - 58s 969us/sample - loss: 1.3146 - accuracy: 0.6365 - val_loss: 1.0684 - val_accuracy: 0.7888\n",
      "Epoch 9/12\n",
      "60000/60000 [==============================] - 64s 1ms/sample - loss: 1.1862 - accuracy: 0.6628 - val_loss: 0.9328 - val_accuracy: 0.8086\n",
      "Epoch 10/12\n",
      "60000/60000 [==============================] - 62s 1ms/sample - loss: 1.0849 - accuracy: 0.6849 - val_loss: 0.8276 - val_accuracy: 0.8209\n",
      "Epoch 11/12\n",
      "60000/60000 [==============================] - 58s 963us/sample - loss: 1.0049 - accuracy: 0.7016 - val_loss: 0.7474 - val_accuracy: 0.8324\n",
      "Epoch 12/12\n",
      "60000/60000 [==============================] - 55s 913us/sample - loss: 0.9400 - accuracy: 0.7163 - val_loss: 0.6850 - val_accuracy: 0.8397\n"
     ]
    },
    {
     "data": {
      "text/plain": [
       "<tensorflow.python.keras.callbacks.History at 0x7fc543188be0>"
      ]
     },
     "execution_count": 6,
     "metadata": {},
     "output_type": "execute_result"
    }
   ],
   "source": [
    "model.compile(loss=tf.keras.losses.categorical_crossentropy,\n",
    "              optimizer=tf.keras.optimizers.Adadelta(),\n",
    "              metrics=['accuracy'])\n",
    "\n",
    "model.fit(x_train, y_train,\n",
    "          batch_size=128,\n",
    "          epochs=12,\n",
    "          verbose=1,\n",
    "          validation_data=(x_test, y_test))"
   ]
  },
  {
   "cell_type": "code",
   "execution_count": 7,
   "metadata": {},
   "outputs": [
    {
     "name": "stdout",
     "output_type": "stream",
     "text": [
      "10000/10000 [==============================] - 3s 323us/sample - loss: 0.6850 - accuracy: 0.8397\n"
     ]
    }
   ],
   "source": [
    "score = model.evaluate(x_test, y_test)"
   ]
  },
  {
   "cell_type": "code",
   "execution_count": 11,
   "metadata": {},
   "outputs": [],
   "source": [
    "image_index = 7777\n",
    "category_name = ['ZERO','ONE','TWO','THREE','FOUR','FIVE','SIX','SEVEN','EIGHT','NINE']\n",
    "import numpy as np\n",
    "np.set_printoptions(formatter={'float': '{: 0.3f}'.format})"
   ]
  },
  {
   "cell_type": "markdown",
   "metadata": {},
   "source": [
    "## Predict with a chosen image"
   ]
  },
  {
   "cell_type": "code",
   "execution_count": 18,
   "metadata": {},
   "outputs": [
    {
     "name": "stdout",
     "output_type": "stream",
     "text": [
      "[[ 0.989  0.000  0.002  0.001  0.001  0.003  0.002  0.001  0.001  0.000]]\n",
      "Index 7782 Category: ZERO Label: ZERO\n"
     ]
    },
    {
     "data": {
      "image/png": "[encoded data removed]",
      "text/plain": [
       "<Figure size 432x288 with 1 Axes>"
      ]
     },
     "metadata": {
      "needs_background": "light"
     },
     "output_type": "display_data"
    }
   ],
   "source": [
    "image_index += 1\n",
    "plt.imshow(x_test[image_index].reshape(28, 28),cmap='Greys')\n",
    "pred = model.predict([x_test[image_index].reshape(1, 28, 28, 1)])\n",
    "print(pred)\n",
    "predict_label = category_name[pred[0].argmax()]\n",
    "correct_label = category_name[y_test[image_index].argmax()]\n",
    "print('Index {0} Category: {1} Label: {2}'.format(image_index, predict_label, correct_label))"
   ]
  },
  {
   "cell_type": "code",
   "execution_count": 19,
   "metadata": {},
   "outputs": [
    {
     "data": {
      "image/png": "[encoded data removed]",
      "text/plain": [
       "<Figure size 432x288 with 1 Axes>"
      ]
     },
     "metadata": {
      "needs_background": "light"
     },
     "output_type": "display_data"
    }
   ],
   "source": [
    "def print_logits(logits):\n",
    "    classes = ['ZERO','ONE','TWO','THREE','FOUR','FIVE','SIX','SEVEN','EIGHT','NINE']\n",
    "    index = np.arange(len(logits))\n",
    "    plt.bar(index, logits, align='center', alpha=0.5)\n",
    "    plt.xlabel('Classification')\n",
    "    plt.ylabel('Logits')\n",
    "    plt.xticks(index,classes,rotation=90)\n",
    "    plt.title('Neutral network confidence')\n",
    "    plt.show()\n",
    "\n",
    "print_logits(pred[0])"
   ]
  },
  {
   "cell_type": "code",
   "execution_count": null,
   "metadata": {},
   "outputs": [],
   "source": []
  }
 ],
 "metadata": {
  "kernelspec": {
   "display_name": "Python 3",
   "language": "python",
   "name": "python3"
  },
  "language_info": {
   "codemirror_mode": {
    "name": "ipython",
    "version": 3
   },
   "file_extension": ".py",
   "mimetype": "text/x-python",
   "name": "python",
   "nbconvert_exporter": "python",
   "pygments_lexer": "ipython3",
   "version": "3.6.5"
  }
 },
 "nbformat": 4,
 "nbformat_minor": 2
}
