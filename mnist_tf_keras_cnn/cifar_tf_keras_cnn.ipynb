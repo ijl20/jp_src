{
 "cells": [
  {
   "cell_type": "markdown",
   "metadata": {},
   "source": [
    "# Tensorflow cifar10 example\n",
    "https://medium.com/intuitive-deep-learning/build-your-first-convolutional-neural-network-to-recognize-images-84b9c78fe0ce"
   ]
  },
  {
   "cell_type": "code",
   "execution_count": 33,
   "metadata": {},
   "outputs": [],
   "source": [
    "import tensorflow as tf\n",
    "(x_train, y_train), (x_test, y_test) = tf.keras.datasets.cifar10.load_data()\n",
    "import keras\n",
    "import numpy as np\n",
    "# Convert the LABELS 0..9 to one-hot\n",
    "y_train_one_hot = keras.utils.to_categorical(y_train, 10)\n",
    "y_test_one_hot = keras.utils.to_categorical(y_test, 10)\n",
    "\n",
    "# Convert the IMAGE pixels 0.255 to 0..1\n",
    "x_train = x_train.astype('float32')\n",
    "x_test = x_test.astype('float32')\n",
    "x_train = x_train / 255\n",
    "x_test = x_test / 255"
   ]
  },
  {
   "cell_type": "code",
   "execution_count": 15,
   "metadata": {},
   "outputs": [],
   "source": [
    "def label(n):\n",
    "    return [\"airplane\",\"automobile\",\"bird\",\"cat\",\"deer\",\"dog\",\"frog\",\"horse\",\"ship\",\"truck\"][n]"
   ]
  },
  {
   "cell_type": "code",
   "execution_count": 36,
   "metadata": {},
   "outputs": [],
   "source": [
    "def print_logits(logits):\n",
    "    classes = [\"airplane\",\"automobile\",\"bird\",\"cat\",\"deer\",\"dog\",\"frog\",\"horse\",\"ship\",\"truck\"]\n",
    "    index = np.arange(len(logits))\n",
    "    plt.bar(index, logits, align='center', alpha=0.5)\n",
    "    plt.xlabel('Classification')\n",
    "    plt.ylabel('Logits')\n",
    "    plt.xticks(index,classes,rotation=90)\n",
    "    plt.title('Neutral network confidence')\n",
    "    plt.show()\n"
   ]
  },
  {
   "cell_type": "code",
   "execution_count": 17,
   "metadata": {},
   "outputs": [
    {
     "name": "stdout",
     "output_type": "stream",
     "text": [
      "[6]\n",
      "frog\n",
      "[0. 0. 0. 0. 0. 0. 1. 0. 0. 0.]\n"
     ]
    },
    {
     "data": {
      "text/plain": [
       "<matplotlib.image.AxesImage at 0x7fcbd1799b00>"
      ]
     },
     "execution_count": 17,
     "metadata": {},
     "output_type": "execute_result"
    },
    {
     "data": {
      "image/png": "[encoded data removed]",
      "text/plain": [
       "<Figure size 432x288 with 1 Axes>"
      ]
     },
     "metadata": {
      "needs_background": "light"
     },
     "output_type": "display_data"
    }
   ],
   "source": [
    "import matplotlib.pyplot as plt\n",
    "%matplotlib inline\n",
    "image_index = 0 # You may select anything up to 50,000\n",
    "\n",
    "print(y_train[image_index])\n",
    "print(label(y_train[image_index][0])) # The label is 6\n",
    "print(y_train_one_hot[0])\n",
    "plt.imshow(x_train[image_index])"
   ]
  },
  {
   "cell_type": "code",
   "execution_count": 19,
   "metadata": {},
   "outputs": [
    {
     "name": "stdout",
     "output_type": "stream",
     "text": [
      "x_train:  (50000, 32, 32, 3) y_train:  (50000, 1)\n"
     ]
    }
   ],
   "source": [
    "print(\"x_train: \",x_train.shape,\"y_train: \",y_train.shape)"
   ]
  },
  {
   "cell_type": "code",
   "execution_count": 20,
   "metadata": {},
   "outputs": [],
   "source": [
    "# Importing the required Keras modules containing model and layers\n",
    "from tensorflow.keras.models import Sequential\n",
    "from tensorflow.keras.layers import Dense, Conv2D, Dropout, Flatten, MaxPooling2D"
   ]
  },
  {
   "cell_type": "code",
   "execution_count": 21,
   "metadata": {},
   "outputs": [
    {
     "name": "stdout",
     "output_type": "stream",
     "text": [
      "Model: \"sequential\"\n",
      "_________________________________________________________________\n",
      "Layer (type)                 Output Shape              Param #   \n",
      "=================================================================\n",
      "conv2d (Conv2D)              (None, 32, 32, 32)        896       \n",
      "_________________________________________________________________\n",
      "conv2d_1 (Conv2D)            (None, 32, 32, 32)        9248      \n",
      "_________________________________________________________________\n",
      "max_pooling2d (MaxPooling2D) (None, 16, 16, 32)        0         \n",
      "_________________________________________________________________\n",
      "dropout (Dropout)            (None, 16, 16, 32)        0         \n",
      "_________________________________________________________________\n",
      "conv2d_2 (Conv2D)            (None, 16, 16, 64)        18496     \n",
      "_________________________________________________________________\n",
      "conv2d_3 (Conv2D)            (None, 16, 16, 64)        36928     \n",
      "_________________________________________________________________\n",
      "max_pooling2d_1 (MaxPooling2 (None, 8, 8, 64)          0         \n",
      "_________________________________________________________________\n",
      "dropout_1 (Dropout)          (None, 8, 8, 64)          0         \n",
      "_________________________________________________________________\n",
      "flatten (Flatten)            (None, 4096)              0         \n",
      "_________________________________________________________________\n",
      "dense (Dense)                (None, 512)               2097664   \n",
      "_________________________________________________________________\n",
      "dropout_2 (Dropout)          (None, 512)               0         \n",
      "_________________________________________________________________\n",
      "dense_1 (Dense)              (None, 10)                5130      \n",
      "=================================================================\n",
      "Total params: 2,168,362\n",
      "Trainable params: 2,168,362\n",
      "Non-trainable params: 0\n",
      "_________________________________________________________________\n"
     ]
    }
   ],
   "source": [
    "# Creating a Sequential Model and adding the layers\n",
    "model = Sequential()\n",
    "model.add(Conv2D(32, (3, 3), activation='relu', padding='same', input_shape=(32,32,3)))\n",
    "model.add(Conv2D(32, (3, 3), activation='relu', padding='same'))\n",
    "model.add(MaxPooling2D(pool_size=(2, 2)))\n",
    "model.add(Dropout(0.25))\n",
    "model.add(Conv2D(64, (3, 3), activation='relu', padding='same'))\n",
    "model.add(Conv2D(64, (3, 3), activation='relu', padding='same'))\n",
    "model.add(MaxPooling2D(pool_size=(2, 2)))\n",
    "model.add(Dropout(0.25))\n",
    "model.add(Flatten())\n",
    "model.add(Dense(512, activation='relu'))\n",
    "model.add(Dropout(0.5))\n",
    "model.add(Dense(10, activation='softmax'))\n",
    "model.summary()"
   ]
  },
  {
   "cell_type": "code",
   "execution_count": 22,
   "metadata": {},
   "outputs": [
    {
     "name": "stderr",
     "output_type": "stream",
     "text": [
      "WARNING: Logging before flag parsing goes to stderr.\n",
      "W0726 15:33:44.677020 140514715084608 deprecation.py:323] From /home/ijl20/src/jupyterlab/venv/lib/python3.6/site-packages/tensorflow/python/ops/math_grad.py:1250: add_dispatch_support.<locals>.wrapper (from tensorflow.python.ops.array_ops) is deprecated and will be removed in a future version.\n",
      "Instructions for updating:\n",
      "Use tf.where in 2.0, which has the same broadcast rule as np.where\n"
     ]
    },
    {
     "name": "stdout",
     "output_type": "stream",
     "text": [
      "Train on 40000 samples, validate on 10000 samples\n",
      "Epoch 1/20\n",
      "40000/40000 [==============================] - 93s 2ms/sample - loss: 1.5706 - accuracy: 0.4217 - val_loss: 1.2150 - val_accuracy: 0.5623\n",
      "Epoch 2/20\n",
      "40000/40000 [==============================] - 94s 2ms/sample - loss: 1.1557 - accuracy: 0.5852 - val_loss: 1.0434 - val_accuracy: 0.6278\n",
      "Epoch 3/20\n",
      "40000/40000 [==============================] - 96s 2ms/sample - loss: 0.9901 - accuracy: 0.6490 - val_loss: 0.8961 - val_accuracy: 0.6832\n",
      "Epoch 4/20\n",
      "40000/40000 [==============================] - 101s 3ms/sample - loss: 0.8895 - accuracy: 0.6848 - val_loss: 0.8049 - val_accuracy: 0.7156\n",
      "Epoch 5/20\n",
      "40000/40000 [==============================] - 109s 3ms/sample - loss: 0.8121 - accuracy: 0.7146 - val_loss: 0.7806 - val_accuracy: 0.7264\n",
      "Epoch 6/20\n",
      "40000/40000 [==============================] - 112s 3ms/sample - loss: 0.7519 - accuracy: 0.7360 - val_loss: 0.7571 - val_accuracy: 0.7341\n",
      "Epoch 7/20\n",
      "40000/40000 [==============================] - 116s 3ms/sample - loss: 0.7141 - accuracy: 0.7462 - val_loss: 0.7331 - val_accuracy: 0.7453\n",
      "Epoch 8/20\n",
      "40000/40000 [==============================] - 119s 3ms/sample - loss: 0.6672 - accuracy: 0.7645 - val_loss: 0.7190 - val_accuracy: 0.7497\n",
      "Epoch 9/20\n",
      "40000/40000 [==============================] - 115s 3ms/sample - loss: 0.6295 - accuracy: 0.7764 - val_loss: 0.7197 - val_accuracy: 0.7525\n",
      "Epoch 10/20\n",
      "40000/40000 [==============================] - 111s 3ms/sample - loss: 0.6015 - accuracy: 0.7891 - val_loss: 0.7092 - val_accuracy: 0.7590\n",
      "Epoch 11/20\n",
      "40000/40000 [==============================] - 130s 3ms/sample - loss: 0.5754 - accuracy: 0.7969 - val_loss: 0.6783 - val_accuracy: 0.7701\n",
      "Epoch 12/20\n",
      "40000/40000 [==============================] - 111s 3ms/sample - loss: 0.5467 - accuracy: 0.8074 - val_loss: 0.6702 - val_accuracy: 0.7747\n",
      "Epoch 13/20\n",
      "40000/40000 [==============================] - 105s 3ms/sample - loss: 0.5184 - accuracy: 0.8179 - val_loss: 0.7188 - val_accuracy: 0.7594\n",
      "Epoch 14/20\n",
      "40000/40000 [==============================] - 109s 3ms/sample - loss: 0.5058 - accuracy: 0.8207 - val_loss: 0.6855 - val_accuracy: 0.7760\n",
      "Epoch 15/20\n",
      "40000/40000 [==============================] - 114s 3ms/sample - loss: 0.4790 - accuracy: 0.8290 - val_loss: 0.7062 - val_accuracy: 0.7706\n",
      "Epoch 16/20\n",
      "40000/40000 [==============================] - 108s 3ms/sample - loss: 0.4692 - accuracy: 0.8335 - val_loss: 0.6955 - val_accuracy: 0.7755\n",
      "Epoch 17/20\n",
      "40000/40000 [==============================] - 108s 3ms/sample - loss: 0.4532 - accuracy: 0.8412 - val_loss: 0.6913 - val_accuracy: 0.7790\n",
      "Epoch 18/20\n",
      "40000/40000 [==============================] - 109s 3ms/sample - loss: 0.4411 - accuracy: 0.8435 - val_loss: 0.7072 - val_accuracy: 0.7733\n",
      "Epoch 19/20\n",
      "40000/40000 [==============================] - 107s 3ms/sample - loss: 0.4268 - accuracy: 0.8492 - val_loss: 0.7047 - val_accuracy: 0.7793\n",
      "Epoch 20/20\n",
      "40000/40000 [==============================] - 108s 3ms/sample - loss: 0.4128 - accuracy: 0.8555 - val_loss: 0.7211 - val_accuracy: 0.7780\n"
     ]
    }
   ],
   "source": [
    "model.compile(loss='categorical_crossentropy',\n",
    "              optimizer='adam',\n",
    "              metrics=['accuracy'])\n",
    "hist = model.fit(x_train, y_train_one_hot, batch_size=32, epochs=20, validation_split=0.2)"
   ]
  },
  {
   "cell_type": "code",
   "execution_count": 25,
   "metadata": {},
   "outputs": [
    {
     "data": {
      "image/png": "[encoded data removed]",
      "text/plain": [
       "<Figure size 432x288 with 1 Axes>"
      ]
     },
     "metadata": {
      "needs_background": "light"
     },
     "output_type": "display_data"
    }
   ],
   "source": [
    "plt.plot(hist.history['loss'])\n",
    "plt.plot(hist.history['val_loss'])\n",
    "plt.title('Model loss')\n",
    "plt.ylabel('Loss')\n",
    "plt.xlabel('Epoch')\n",
    "plt.legend(['Train', 'Val'], loc='upper right')\n",
    "plt.show()"
   ]
  },
  {
   "cell_type": "code",
   "execution_count": 26,
   "metadata": {},
   "outputs": [
    {
     "ename": "KeyError",
     "evalue": "'acc'",
     "output_type": "error",
     "traceback": [
      "\u001b[0;31m---------------------------------------------------------------------------\u001b[0m",
      "\u001b[0;31mKeyError\u001b[0m                                  Traceback (most recent call last)",
      "\u001b[0;32m<ipython-input-26-84d24d69b6e4>\u001b[0m in \u001b[0;36m<module>\u001b[0;34m()\u001b[0m\n\u001b[0;32m----> 1\u001b[0;31m \u001b[0mplt\u001b[0m\u001b[0;34m.\u001b[0m\u001b[0mplot\u001b[0m\u001b[0;34m(\u001b[0m\u001b[0mhist\u001b[0m\u001b[0;34m.\u001b[0m\u001b[0mhistory\u001b[0m\u001b[0;34m[\u001b[0m\u001b[0;34m'acc'\u001b[0m\u001b[0;34m]\u001b[0m\u001b[0;34m)\u001b[0m\u001b[0;34m\u001b[0m\u001b[0;34m\u001b[0m\u001b[0m\n\u001b[0m\u001b[1;32m      2\u001b[0m \u001b[0mplt\u001b[0m\u001b[0;34m.\u001b[0m\u001b[0mplot\u001b[0m\u001b[0;34m(\u001b[0m\u001b[0mhist\u001b[0m\u001b[0;34m.\u001b[0m\u001b[0mhistory\u001b[0m\u001b[0;34m[\u001b[0m\u001b[0;34m'val_acc'\u001b[0m\u001b[0;34m]\u001b[0m\u001b[0;34m)\u001b[0m\u001b[0;34m\u001b[0m\u001b[0;34m\u001b[0m\u001b[0m\n\u001b[1;32m      3\u001b[0m \u001b[0mplt\u001b[0m\u001b[0;34m.\u001b[0m\u001b[0mtitle\u001b[0m\u001b[0;34m(\u001b[0m\u001b[0;34m'Model accuracy'\u001b[0m\u001b[0;34m)\u001b[0m\u001b[0;34m\u001b[0m\u001b[0;34m\u001b[0m\u001b[0m\n\u001b[1;32m      4\u001b[0m \u001b[0mplt\u001b[0m\u001b[0;34m.\u001b[0m\u001b[0mylabel\u001b[0m\u001b[0;34m(\u001b[0m\u001b[0;34m'Accuracy'\u001b[0m\u001b[0;34m)\u001b[0m\u001b[0;34m\u001b[0m\u001b[0;34m\u001b[0m\u001b[0m\n\u001b[1;32m      5\u001b[0m \u001b[0mplt\u001b[0m\u001b[0;34m.\u001b[0m\u001b[0mxlabel\u001b[0m\u001b[0;34m(\u001b[0m\u001b[0;34m'Epoch'\u001b[0m\u001b[0;34m)\u001b[0m\u001b[0;34m\u001b[0m\u001b[0;34m\u001b[0m\u001b[0m\n",
      "\u001b[0;31mKeyError\u001b[0m: 'acc'"
     ]
    }
   ],
   "source": [
    "plt.plot(hist.history['acc'])\n",
    "plt.plot(hist.history['val_acc'])\n",
    "plt.title('Model accuracy')\n",
    "plt.ylabel('Accuracy')\n",
    "plt.xlabel('Epoch')\n",
    "plt.legend(['Train', 'Val'], loc='lower right')\n",
    "plt.show()"
   ]
  },
  {
   "cell_type": "code",
   "execution_count": 40,
   "metadata": {},
   "outputs": [
    {
     "name": "stdout",
     "output_type": "stream",
     "text": [
      "10000/10000 [==============================] - 5s 454us/sample - loss: 0.7523 - accuracy: 0.7701\n"
     ]
    },
    {
     "data": {
      "text/plain": [
       "0.7701"
      ]
     },
     "execution_count": 40,
     "metadata": {},
     "output_type": "execute_result"
    }
   ],
   "source": [
    "model.evaluate(x_test, y_test_one_hot)[1]"
   ]
  },
  {
   "cell_type": "code",
   "execution_count": 41,
   "metadata": {},
   "outputs": [],
   "source": [
    "cat = plt.imread(\"cat.png\")"
   ]
  },
  {
   "cell_type": "code",
   "execution_count": 42,
   "metadata": {},
   "outputs": [
    {
     "data": {
      "text/plain": [
       "<matplotlib.image.AxesImage at 0x7fcbc093c0f0>"
      ]
     },
     "execution_count": 42,
     "metadata": {},
     "output_type": "execute_result"
    },
    {
     "data": {
      "image/png": "[encoded data removed]",
      "text/plain": [
       "<Figure size 432x288 with 1 Axes>"
      ]
     },
     "metadata": {
      "needs_background": "light"
     },
     "output_type": "display_data"
    }
   ],
   "source": [
    "from skimage.transform import resize\n",
    "cat_resized = resize(cat, (32,32,3))\n",
    "plt.imshow(cat_resized)"
   ]
  },
  {
   "cell_type": "code",
   "execution_count": 43,
   "metadata": {},
   "outputs": [
    {
     "name": "stdout",
     "output_type": "stream",
     "text": [
      "[[8.05988268e-04 3.09651514e-05 1.61208138e-02 1.53488114e-01\n",
      "  1.03488244e-01 2.14210898e-01 7.08677713e-03 5.04412353e-01\n",
      "  1.78033471e-04 1.77819689e-04]]\n"
     ]
    }
   ],
   "source": [
    "cat_prob = model.predict(np.array( [cat_resized,] ))\n",
    "print(cat_prob)"
   ]
  },
  {
   "cell_type": "code",
   "execution_count": 44,
   "metadata": {},
   "outputs": [
    {
     "data": {
      "image/png": "[encoded data removed]",
      "text/plain": [
       "<Figure size 432x288 with 1 Axes>"
      ]
     },
     "metadata": {
      "needs_background": "light"
     },
     "output_type": "display_data"
    }
   ],
   "source": [
    "print_logits(cat_prob[0])"
   ]
  },
  {
   "cell_type": "code",
   "execution_count": 8,
   "metadata": {},
   "outputs": [],
   "source": [
    "image_index = 7800\n",
    "category_name = ['ZERO','ONE','TWO','THREE','FOUR','FIVE','SIX','SEVEN','EIGHT','NINE']\n",
    "import numpy as np\n",
    "np.set_printoptions(formatter={'float': '{: 0.3f}'.format})"
   ]
  },
  {
   "cell_type": "code",
   "execution_count": 10,
   "metadata": {},
   "outputs": [
    {
     "name": "stdout",
     "output_type": "stream",
     "text": [
      "[[ 0.000  1.000  0.000  0.000  0.000  0.000  0.000  0.000  0.000  0.000]]\n",
      "Index 7802 Category: ONE Label: ONE [[ 0.000  1.000  0.000  0.000  0.000  0.000  0.000  0.000  0.000  0.000]]\n"
     ]
    },
    {
     "data": {
      "image/png": "[encoded data removed]",
      "text/plain": [
       "<Figure size 432x288 with 1 Axes>"
      ]
     },
     "metadata": {
      "needs_background": "light"
     },
     "output_type": "display_data"
    }
   ],
   "source": [
    "image_index += 1\n",
    "plt.imshow(x_test[image_index].reshape(28, 28),cmap='Greys')\n",
    "pred = model.predict(x_test[image_index].reshape(1, 28, 28, 1))\n",
    "print(pred)\n",
    "print('Index {0} Category: {1} Label: {2} {3}'.format(image_index, category_name[pred.argmax()],category_name[y_test[image_index]], pred))"
   ]
  },
  {
   "cell_type": "code",
   "execution_count": null,
   "metadata": {},
   "outputs": [],
   "source": [
    "from IPython.display import display, Markdown"
   ]
  },
  {
   "cell_type": "code",
   "execution_count": null,
   "metadata": {},
   "outputs": [],
   "source": [
    "display(Markdown('# foo'))"
   ]
  },
  {
   "cell_type": "code",
   "execution_count": null,
   "metadata": {},
   "outputs": [],
   "source": []
  }
 ],
 "metadata": {
  "kernelspec": {
   "display_name": "Python 3",
   "language": "python",
   "name": "python3"
  },
  "language_info": {
   "codemirror_mode": {
    "name": "ipython",
    "version": 3
   },
   "file_extension": ".py",
   "mimetype": "text/x-python",
   "name": "python",
   "nbconvert_exporter": "python",
   "pygments_lexer": "ipython3",
   "version": "3.6.5"
  }
 },
 "nbformat": 4,
 "nbformat_minor": 2
}
