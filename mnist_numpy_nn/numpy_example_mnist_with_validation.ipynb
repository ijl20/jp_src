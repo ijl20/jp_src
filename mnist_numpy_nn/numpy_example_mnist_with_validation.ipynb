{
 "cells": [
  {
   "cell_type": "markdown",
   "metadata": {},
   "source": [
    "# NN Train on MNIST digits"
   ]
  },
  {
   "cell_type": "code",
   "execution_count": 14,
   "metadata": {},
   "outputs": [
    {
     "name": "stderr",
     "output_type": "stream",
     "text": [
      "Using TensorFlow backend.\n"
     ]
    }
   ],
   "source": [
    "import math\n",
    "import random\n",
    "import numpy as np\n",
    "import time\n",
    "import keras\n",
    "from tqdm import trange\n",
    "from IPython.display import clear_output\n",
    "\n",
    "%matplotlib inline\n",
    "\n",
    "import matplotlib.image as mpimg\n",
    "import matplotlib.pyplot as plt"
   ]
  },
  {
   "cell_type": "code",
   "execution_count": 15,
   "metadata": {},
   "outputs": [],
   "source": [
    "IMAGE_SIZE_X = 28\n",
    "IMAGE_SIZE_Y = 28\n",
    "IMAGE_SIZE = IMAGE_SIZE_X * IMAGE_SIZE_Y\n",
    "LABELS_SIZE = 10\n"
   ]
  },
  {
   "cell_type": "code",
   "execution_count": 16,
   "metadata": {},
   "outputs": [],
   "source": [
    "def sigmoid(z):\n",
    "    return 1 / (1 + np.exp(-z))"
   ]
  },
  {
   "cell_type": "code",
   "execution_count": 17,
   "metadata": {},
   "outputs": [],
   "source": [
    "def compute_loss(labels, outputs):\n",
    "    m = labels.shape[0]\n",
    "    return -(1/m) * ( np.sum( np.multiply(np.log(outputs),labels)) + \n",
    "                      np.sum( np.multiply(np.log(1-outputs),(1-labels))))"
   ]
  },
  {
   "cell_type": "markdown",
   "metadata": {},
   "source": [
    "# Example simple NN for MNIST digits only using numpy (and keras to load data)\n",
    "https://towardsdatascience.com/building-an-artificial-neural-network-using-pure-numpy-3fe21acc5815"
   ]
  },
  {
   "cell_type": "code",
   "execution_count": 18,
   "metadata": {},
   "outputs": [],
   "source": [
    "# Display a 28x28 digit image\n",
    "def print_digit(digit):\n",
    "    test_digit = np.mat(digit).reshape(28,28)\n",
    "    plt.imshow(test_digit, cmap='gray')\n",
    "    plt.show()"
   ]
  },
  {
   "cell_type": "code",
   "execution_count": 19,
   "metadata": {},
   "outputs": [],
   "source": [
    "def load_dataset(flatten=False):\n",
    "    \"\"\"\n",
    "    Returns:\n",
    "    images_train - training data     50000x784\n",
    "    labels_train - training labels   50000x1\n",
    "    images_validate   - validation data   10000x784\n",
    "    labels_validate   - validation labels 10000x1\n",
    "    images_test  - test data         10000x784\n",
    "    labels_test  - test labels       10000x1\n",
    "    \n",
    "    The source data loaded via keras holds the images as 28x28 - the 'flatten' arg will convert this to 784x1.\n",
    "\n",
    "    images_mnist is initially 60000x28x28, and images_test is 10000x28x28\n",
    "    \n",
    "    The images are 'flattened' to 784x1, and also the pixels are normalized from 0..255 to 0..1\n",
    "\n",
    "    images_mnist (60000x28x28) is split into images_train (50000x784) and images_validate (10000x784) \n",
    "    (similarly labels_train, and labels_validate)\n",
    "    \"\"\"\n",
    "    # Use keras library to load MNIST data from interweb\n",
    "    (images_mnist, labels_mnist), (images_test, labels_test) = keras.datasets.mnist.load_data()\n",
    "    print(\"Loaded training data\", images_mnist.shape)\n",
    "    print(\"Loaded test data\", images_test.shape)\n",
    "\n",
    "    # normalize input pixel values int 0..255 to float 0..1\n",
    "    images_mnist = images_mnist.astype(float) / 255.\n",
    "    images_test = images_test.astype(float) / 255.\n",
    "\n",
    "    # we reserve the last 10000 training examples for validation\n",
    "    images_train = images_mnist[:-10000]    # training set all but last 10000\n",
    "    images_validate = images_mnist[-10000:] # validation set last 100000\n",
    "    \n",
    "    labels_train = labels_mnist[:-10000]\n",
    "    labels_validate = labels_mnist[-10000:]\n",
    "\n",
    "    if flatten:\n",
    "        images_train = images_train.reshape([images_train.shape[0], -1])\n",
    "        images_validate = images_validate.reshape([images_validate.shape[0], -1])\n",
    "        images_test = images_test.reshape([images_test.shape[0], -1])\n",
    "\n",
    "    return images_train, labels_train, images_validate, labels_validate, images_test, labels_test"
   ]
  },
  {
   "cell_type": "markdown",
   "metadata": {},
   "source": [
    "### Display first few images (train, validate, test)"
   ]
  },
  {
   "cell_type": "code",
   "execution_count": 20,
   "metadata": {},
   "outputs": [],
   "source": [
    "def print_load_data():\n",
    "    #fig = plt.figure(figsize=[8,8])\n",
    "    fig, axs = plt.subplots(3,4)\n",
    "    plt.subplots_adjust(wspace=0.3,hspace=0.6)\n",
    "    fig.suptitle('Training, Validation and Test images 0..3')\n",
    "    for i in range(4):\n",
    "    # create subplot rows,cols,index (index starts at 1)\n",
    "        axs[0,i].imshow(images_train[i].reshape([28,28]),cmap='gray')\n",
    "        axs[0,i].set_title(\"Label: {label}\".format(label=labels_train[i]))\n",
    "        axs[1,i].imshow(images_validate[i].reshape([28,28]),cmap='gray')\n",
    "        axs[1,i].set_title(\"Label: {label}\".format(label=labels_validate[i]))\n",
    "        axs[2,i].imshow(images_test[i].reshape([28,28]),cmap='gray')\n",
    "        axs[2,i].set_title(\"Label: {label}\".format(label=labels_test[i]))"
   ]
  },
  {
   "cell_type": "markdown",
   "metadata": {},
   "source": [
    "## NN Definition Functions"
   ]
  },
  {
   "cell_type": "code",
   "execution_count": 21,
   "metadata": {},
   "outputs": [],
   "source": [
    "class Layer:\n",
    "    \"\"\"\n",
    "    General Layer parent class, extended by Dense, ReLu\n",
    "    \"\"\"\n",
    "    def __init__(self):\n",
    "        \"\"\"Here you can initialize layer parameters (if any) and auxiliary stuff.\"\"\"\n",
    "        # A dummy layer does nothing\n",
    "        self.weights = np.zeros(shape=(input.shape[1], 10))\n",
    "        bias = np.zeros(shape=(10,))\n",
    "        pass\n",
    "    \n",
    "    def forward(self, input):\n",
    "        \"\"\"\n",
    "        Takes input data of shape [batch, input_units], returns output data [batch, 10]\n",
    "        \"\"\"\n",
    "        output = np.matmul(input, self.weights) + bias\n",
    "        return output"
   ]
  },
  {
   "cell_type": "code",
   "execution_count": 22,
   "metadata": {},
   "outputs": [],
   "source": [
    "class Dense(Layer):\n",
    "    # has properties:\n",
    "    # .learning_rate (number)\n",
    "    # .weights\n",
    "    # .biases\n",
    "    def __init__(self, input_units, output_units, learning_rate=0.1):\n",
    "        self.learning_rate = learning_rate\n",
    "        \n",
    "        # initialize weights with small random numbers. We use normal initialization\n",
    "        self.weights = np.random.randn(input_units, output_units)*0.01\n",
    "        self.biases = np.zeros(output_units)\n",
    "        \n",
    "    def forward(self,input):\n",
    "        return np.matmul(input, self.weights) + self.biases\n",
    "      \n",
    "    def backward(self,input,grad_output):\n",
    "        # compute d f / d x = d f / d dense * d dense / d x\n",
    "        # where d dense/ d x = weights transposed\n",
    "        grad_input = np.dot(grad_output,np.transpose(self.weights))\n",
    "\n",
    "        # compute gradient w.r.t. weights and biases\n",
    "        grad_weights = np.transpose(np.dot(np.transpose(grad_output),input))\n",
    "        grad_biases = np.sum(grad_output, axis = 0)\n",
    "        \n",
    "        # Here we perform a stochastic gradient descent step. \n",
    "        # Later on, you can try replacing that with something better.\n",
    "        self.weights = self.weights - self.learning_rate * grad_weights\n",
    "        self.biases = self.biases - self.learning_rate * grad_biases\n",
    "        return grad_input"
   ]
  },
  {
   "cell_type": "code",
   "execution_count": 23,
   "metadata": {},
   "outputs": [],
   "source": [
    "class ReLU(Layer):\n",
    "    def __init__(self):\n",
    "        \"\"\"ReLU layer simply applies elementwise rectified linear unit to all inputs\"\"\"\n",
    "        pass\n",
    "    \n",
    "    def forward(self, input):\n",
    "        \"\"\"Apply elementwise ReLU to [batch, input_units] matrix\"\"\"\n",
    "        return np.maximum(0,input)\n",
    "\n",
    "    def backward(self, input, grad_output):\n",
    "        \"\"\"Compute gradient of loss w.r.t. ReLU input\"\"\"\n",
    "        relu_grad = input > 0\n",
    "        return grad_output*relu_grad "
   ]
  },
  {
   "cell_type": "code",
   "execution_count": 24,
   "metadata": {},
   "outputs": [],
   "source": [
    "def softmax_crossentropy_with_logits(logits,reference_answers):\n",
    "    \"\"\"Compute crossentropy from logits[batch,n_classes] and ids of correct answers\"\"\"\n",
    "    logits_for_answers = logits[np.arange(len(logits)),reference_answers]\n",
    "    \n",
    "    xentropy = - logits_for_answers + np.log(np.sum(np.exp(logits),axis=-1))\n",
    "    \n",
    "    return xentropy"
   ]
  },
  {
   "cell_type": "code",
   "execution_count": 25,
   "metadata": {},
   "outputs": [],
   "source": [
    "def grad_softmax_crossentropy_with_logits(logits,reference_answers):\n",
    "    \"\"\"Compute crossentropy gradient from logits[batch,n_classes] and ids of correct answers\"\"\"\n",
    "    ones_for_answers = np.zeros_like(logits)\n",
    "    ones_for_answers[np.arange(len(logits)),reference_answers] = 1\n",
    "    \n",
    "    softmax = np.exp(logits) / np.exp(logits).sum(axis=-1,keepdims=True)\n",
    "    \n",
    "    return (- ones_for_answers + softmax) / logits.shape[0]\n",
    "  "
   ]
  },
  {
   "cell_type": "code",
   "execution_count": 26,
   "metadata": {},
   "outputs": [],
   "source": [
    "def forward(network, X):\n",
    "    \"\"\"\n",
    "    Compute activations of all network layers by applying them sequentially.\n",
    "    Return a list of activations for each layer. \n",
    "    Make sure last activation corresponds to network logits.\n",
    "    \"\"\"\n",
    "    activations = []\n",
    "    input = X\n",
    "    for i in range(len(network)):\n",
    "        activations.append(network[i].forward(X))\n",
    "        X = network[i].forward(X)\n",
    "        \n",
    "    assert len(activations) == len(network)\n",
    "    return activations"
   ]
  },
  {
   "cell_type": "code",
   "execution_count": 27,
   "metadata": {},
   "outputs": [],
   "source": [
    "def predict(network,X):\n",
    "    \"\"\"\n",
    "    Compute network predictions.\n",
    "    \"\"\"\n",
    "    logits = forward(network,X)[-1]\n",
    "    return logits.argmax(axis=-1)"
   ]
  },
  {
   "cell_type": "code",
   "execution_count": 28,
   "metadata": {},
   "outputs": [],
   "source": [
    "def train(network,X,y):\n",
    "    \"\"\"\n",
    "    Train your network on a given batch of X and y.\n",
    "    You first need to run forward to get all layer activations.\n",
    "    Then you can run layer.backward going from last to first layer.\n",
    "    After you called backward for all layers, all Dense layers have already made one gradient step.\n",
    "    \"\"\"\n",
    "    \n",
    "    # Get the layer activations\n",
    "    layer_activations = forward(network,X)\n",
    "    logits = layer_activations[-1]\n",
    "    \n",
    "    # Compute the loss and the initial gradient\n",
    "    loss = softmax_crossentropy_with_logits(logits,y)\n",
    "    loss_grad = grad_softmax_crossentropy_with_logits(logits,y)\n",
    "    \n",
    "    for i in range(1, len(network)):\n",
    "        loss_grad = network[len(network) - i].backward(layer_activations[len(network) - i - 1], loss_grad)\n",
    "    \n",
    "    return np.mean(loss)\n",
    "  "
   ]
  },
  {
   "cell_type": "code",
   "execution_count": 29,
   "metadata": {},
   "outputs": [],
   "source": [
    "def iterate_minibatches(inputs, targets, batchsize, shuffle=False):\n",
    "    assert len(inputs) == len(targets)\n",
    "    if shuffle:\n",
    "        indices = np.random.permutation(len(inputs))\n",
    "    for start_idx in trange(0, len(inputs) - batchsize + 1, batchsize):\n",
    "        if shuffle:\n",
    "            excerpt = indices[start_idx:start_idx + batchsize]\n",
    "        else:\n",
    "            excerpt = slice(start_idx, start_idx + batchsize)\n",
    "        yield inputs[excerpt], targets[excerpt]\n",
    "        "
   ]
  },
  {
   "cell_type": "code",
   "execution_count": 37,
   "metadata": {},
   "outputs": [
    {
     "name": "stdout",
     "output_type": "stream",
     "text": [
      "Loaded training data (60000, 28, 28)\n",
      "Loaded test data (60000, 28, 28)\n"
     ]
    }
   ],
   "source": [
    "images_train, labels_train, images_validate, labels_validate, images_test, labels_test = load_dataset(flatten=True)"
   ]
  },
  {
   "cell_type": "code",
   "execution_count": 35,
   "metadata": {},
   "outputs": [],
   "source": [
    "def print_load_data():\n",
    "    print(\"training images:{} labels:{}, validation images:{} labels:{}, test images:{} labels:{}\"\n",
    "      .format(images_train.shape, labels_train.shape, images_validate.shape, labels_validate.shape, images_test.shape, labels_test.shape))\n",
    "    \n",
    "    fig, axs = plt.subplots(3,4, figsize=(10,10))\n",
    "    plt.subplots_adjust(wspace=0.3,hspace=0.6)\n",
    "    fig.suptitle('Training, Validation and Test images 0..3')\n",
    "    for i in range(4):\n",
    "    # create subplot rows,cols,index (index starts at 1)\n",
    "        axs[0,i].imshow(images_train[i].reshape([28,28]),cmap='gray',aspect='auto')\n",
    "        axs[0,i].set_title(\"Label: {label}\".format(label=labels_train[i]))\n",
    "        axs[1,i].imshow(images_validate[i].reshape([28,28]),cmap='gray', aspect='auto')\n",
    "        axs[1,i].set_title(\"Label: {label}\".format(label=labels_validate[i]))\n",
    "        axs[2,i].imshow(images_test[i].reshape([28,28]),cmap='gray', aspect='auto')\n",
    "        axs[2,i].set_title(\"Label: {label}\".format(label=labels_test[i]))"
   ]
  },
  {
   "cell_type": "code",
   "execution_count": 36,
   "metadata": {},
   "outputs": [
    {
     "name": "stdout",
     "output_type": "stream",
     "text": [
      "training images:(50000, 784) labels:(50000,), validation images:(10000, 784) labels:(10000,), test images:(10000, 784) labels:(10000,)\n"
     ]
    },
    {
     "data": {
      "image/png": "[encoded data removed]",
      "text/plain": [
       "<Figure size 720x720 with 12 Axes>"
      ]
     },
     "metadata": {
      "needs_background": "light"
     },
     "output_type": "display_data"
    }
   ],
   "source": [
    "print_load_data()"
   ]
  },
  {
   "cell_type": "markdown",
   "metadata": {},
   "source": [
    "## Create Neural Network from Layers"
   ]
  },
  {
   "cell_type": "code",
   "execution_count": 33,
   "metadata": {},
   "outputs": [],
   "source": [
    "network = []\n",
    "network.append(Dense(images_train.shape[1],100))\n",
    "network.append(ReLU())\n",
    "#network.append(Dense(100,10))\n",
    "network.append(Dense(100,200))\n",
    "network.append(ReLU())\n",
    "network.append(Dense(200,10))"
   ]
  },
  {
   "cell_type": "markdown",
   "metadata": {},
   "source": [
    "## Train the network"
   ]
  },
  {
   "cell_type": "code",
   "execution_count": 34,
   "metadata": {},
   "outputs": [
    {
     "name": "stdout",
     "output_type": "stream",
     "text": [
      "Epoch 25\n",
      "Train accuracy: 0.90556\n",
      "Val accuracy: 0.9115\n"
     ]
    },
    {
     "data": {
      "image/png": "[encoded data removed]",
      "text/plain": [
       "<Figure size 432x288 with 1 Axes>"
      ]
     },
     "metadata": {
      "needs_background": "light"
     },
     "output_type": "display_data"
    }
   ],
   "source": [
    "epochs = 25\n",
    "train_log = []\n",
    "val_log = []\n",
    "for epoch in range(epochs):\n",
    "\n",
    "    for x_batch,y_batch in iterate_minibatches(images_train,labels_train,batchsize=32,shuffle=True):\n",
    "        train(network,x_batch,y_batch)\n",
    "    \n",
    "    train_log.append(np.mean(predict(network,images_train)==labels_train))\n",
    "    \n",
    "    val_log.append(np.mean(predict(network,images_validate)==labels_validate))\n",
    "    \n",
    "    clear_output()\n",
    "    print(\"Epoch\",epoch+1)\n",
    "    print(\"Train accuracy:\",train_log[-1])\n",
    "    print(\"Validation accuracy:\",val_log[-1])\n",
    "    plt.plot(train_log,label='train images')\n",
    "    plt.plot(val_log,label='validation images')\n",
    "    plt.yscale('linear')\n",
    "    plt.gca().set_ylim([0.8,1.0])\n",
    "    plt.legend(loc='best')\n",
    "    plt.grid()\n",
    "    plt.show()"
   ]
  },
  {
   "cell_type": "markdown",
   "metadata": {},
   "source": [
    "## Test an image"
   ]
  },
  {
   "cell_type": "code",
   "execution_count": 151,
   "metadata": {},
   "outputs": [
    {
     "data": {
      "image/png": "[encoded data removed]",
      "text/plain": [
       "<Figure size 432x288 with 1 Axes>"
      ]
     },
     "metadata": {
      "needs_background": "light"
     },
     "output_type": "display_data"
    }
   ],
   "source": [
    "print_digit(images_test[0])"
   ]
  },
  {
   "cell_type": "markdown",
   "metadata": {},
   "source": [
    "## Draw accuracy / time plot"
   ]
  },
  {
   "cell_type": "code",
   "execution_count": 45,
   "metadata": {},
   "outputs": [
    {
     "data": {
      "image/png": "[encoded data removed]",
      "text/plain": [
       "<Figure size 1296x864 with 1 Axes>"
      ]
     },
     "metadata": {
      "needs_background": "light"
     },
     "output_type": "display_data"
    }
   ],
   "source": [
    "from matplotlib.ticker import MultipleLocator\n",
    "\n",
    "fig = plt.figure(figsize=(18,12))\n",
    "ax = fig.add_subplot(1, 1, 1)\n",
    "\n",
    "ax.set_title(\"MNIST CNN 784->28x28->conv(5x5x32)->max_pool[2,2]->6272->1024->10 Accuracy vs. Time(s)\", fontsize='large')\n",
    "\n",
    "## Set up Time x axis\n",
    "\n",
    "ax.set_xlabel(\"Time (s)\")\n",
    "# Min x axis value is 0 (so y-axis crosses at x=0)\n",
    "ax.set_xlim(left=0)\n",
    "# x ticks at 10s\n",
    "ax.set_xticks(np.arange(0.0,max(graph_data_time),STEPS_COUNT))\n",
    "ax.xaxis.grid(which='major', color='b', linewidth=1.3)\n",
    "\n",
    "## Set up Accuracy y axis\n",
    "\n",
    "ax.set_ylabel(\"Accuracy\")\n",
    "ax.set_ylim(bottom=0)\n",
    "# Set Accuracy tick locations and define horizontal grid lines\n",
    "minorLocator = MultipleLocator(0.05)\n",
    "majorLocator = MultipleLocator(0.1)\n",
    "ax.yaxis.set_minor_locator(minorLocator)\n",
    "ax.yaxis.set_major_locator(majorLocator)\n",
    "ax.yaxis.grid(which='major', color='b', linewidth=1.3)\n",
    "ax.yaxis.grid(which='minor', color='g')\n",
    "\n",
    "# Plot the chart\n",
    "ax.plot(graph_data_time, graph_data_accuracy)\n",
    "\n",
    "plt.minorticks_on()\n",
    "plt.xticks(rotation=90)\n",
    "plt.show(fig)"
   ]
  },
  {
   "cell_type": "code",
   "execution_count": null,
   "metadata": {},
   "outputs": [],
   "source": []
  }
 ],
 "metadata": {
  "kernelspec": {
   "display_name": "Python 3",
   "language": "python",
   "name": "python3"
  },
  "language_info": {
   "codemirror_mode": {
    "name": "ipython",
    "version": 3
   },
   "file_extension": ".py",
   "mimetype": "text/x-python",
   "name": "python",
   "nbconvert_exporter": "python",
   "pygments_lexer": "ipython3",
   "version": "3.6.5"
  }
 },
 "nbformat": 4,
 "nbformat_minor": 2
}
