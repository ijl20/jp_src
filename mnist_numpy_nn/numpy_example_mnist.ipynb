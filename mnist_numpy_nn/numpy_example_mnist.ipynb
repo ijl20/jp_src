{
 "cells": [
  {
   "cell_type": "markdown",
   "metadata": {},
   "source": [
    "# NN Train on MNIST digits"
   ]
  },
  {
   "cell_type": "code",
   "execution_count": 138,
   "metadata": {},
   "outputs": [],
   "source": [
    "import math\n",
    "import random\n",
    "import numpy as np\n",
    "import time\n",
    "import keras\n",
    "from tqdm import trange\n",
    "from IPython.display import clear_output\n",
    "\n",
    "%matplotlib inline\n",
    "\n",
    "import matplotlib.image as mpimg\n",
    "import matplotlib.pyplot as plt"
   ]
  },
  {
   "cell_type": "code",
   "execution_count": 161,
   "metadata": {},
   "outputs": [],
   "source": [
    "# set default print to 3 decimal places\n",
    "np.set_printoptions(formatter={'float': lambda x: \"{0:0.3f}\".format(x)})"
   ]
  },
  {
   "cell_type": "code",
   "execution_count": 162,
   "metadata": {},
   "outputs": [],
   "source": [
    "IMAGE_SIZE_X = 28\n",
    "IMAGE_SIZE_Y = 28\n",
    "IMAGE_SIZE = IMAGE_SIZE_X * IMAGE_SIZE_Y\n",
    "LABELS_SIZE = 10\n"
   ]
  },
  {
   "cell_type": "code",
   "execution_count": 163,
   "metadata": {},
   "outputs": [],
   "source": [
    "def sigmoid(z):\n",
    "    return 1 / (1 + np.exp(-z))"
   ]
  },
  {
   "cell_type": "code",
   "execution_count": 164,
   "metadata": {},
   "outputs": [],
   "source": [
    "def compute_loss(labels, outputs):\n",
    "    m = labels.shape[0]\n",
    "    return -(1/m) * ( np.sum( np.multiply(np.log(outputs),labels)) + \n",
    "                      np.sum( np.multiply(np.log(1-outputs),(1-labels))))"
   ]
  },
  {
   "cell_type": "markdown",
   "metadata": {},
   "source": [
    "# Example simple NN for MNIST digits only using numpy (and keras to load data)\n",
    "https://towardsdatascience.com/building-an-artificial-neural-network-using-pure-numpy-3fe21acc5815"
   ]
  },
  {
   "cell_type": "code",
   "execution_count": 209,
   "metadata": {},
   "outputs": [],
   "source": [
    "# Display a 28x28 digit image\n",
    "def print_digit(digit):\n",
    "    test_digit = np.mat(digit).reshape(28,28)\n",
    "    plt.imshow(test_digit, cmap='gray')\n",
    "    plt.show()\n",
    "    \n",
    "def print_logits(logits):\n",
    "    classes = ['ZERO','ONE','TWO','THREE','FOUR','FIVE','SIX','SEVEN','EIGHT','NINE']\n",
    "    index = np.arange(len(logits))\n",
    "    plt.bar(index, logits, align='center', alpha=0.5)\n",
    "    plt.xlabel('Classification')\n",
    "    plt.ylabel('Logits')\n",
    "    plt.xticks(index,classes,rotation=90)\n",
    "    plt.title('Neutral network confidence')\n",
    "    plt.show()\n",
    "\n"
   ]
  },
  {
   "cell_type": "code",
   "execution_count": 166,
   "metadata": {},
   "outputs": [],
   "source": [
    "def load_dataset(flatten=False):\n",
    "    \"\"\"\n",
    "    Returns:\n",
    "    images_train - training data     60000x784\n",
    "    labels_train - training labels   60000x1\n",
    "    images_test  - test data         10000x784\n",
    "    labels_test  - test labels       10000x1\n",
    "    \n",
    "    The source data loaded via keras holds the images as 28x28 - the 'flatten' arg\n",
    "    will convert this to 784x1.\n",
    "\n",
    "    images_train is initially 60000x28x28, and images_test is 10000x28x28\n",
    "    \n",
    "    The images are 'flattened' to 784x1, and also the pixels are normalized from \n",
    "    0..255 to 0..1\n",
    "    \"\"\"\n",
    "    # Use keras library to load MNIST data from interweb\n",
    "    (images_train, labels_train), (images_test, labels_test) = keras.datasets.mnist.load_data()\n",
    "    print(\"Loaded training images\", images_train.shape)\n",
    "    print(\"Loaded test images\", images_test.shape)\n",
    "\n",
    "    # normalize input pixel values int 0..255 to float 0..1\n",
    "    images_train = images_train.astype(float) / 255.\n",
    "    images_test = images_test.astype(float) / 255.\n",
    "\n",
    "    if flatten:\n",
    "        images_train = images_train.reshape([images_train.shape[0], -1])\n",
    "        images_test = images_test.reshape([images_test.shape[0], -1])\n",
    "\n",
    "    return (images_train, labels_train), (images_test, labels_test)"
   ]
  },
  {
   "cell_type": "markdown",
   "metadata": {},
   "source": [
    "### Display first few images (train, validate, test)"
   ]
  },
  {
   "cell_type": "code",
   "execution_count": 167,
   "metadata": {},
   "outputs": [],
   "source": [
    "def print_load_data():\n",
    "    print(\"training images:{} labels:{}, test images:{} labels:{}\"\n",
    "      .format(images_train.shape, labels_train.shape, images_test.shape, labels_test.shape))\n",
    "    \n",
    "    fig, axs = plt.subplots(2,4, figsize=(10,5))\n",
    "    plt.subplots_adjust(wspace=0.3,hspace=0.6)\n",
    "    fig.suptitle('Training and Test images 0..3')\n",
    "    for i in range(4):\n",
    "    # create subplot rows,cols,index (index starts at 1)\n",
    "        axs[0,i].imshow(images_train[i].reshape([28,28]),cmap='gray',aspect='auto')\n",
    "        axs[0,i].set_title(\"Label: {label}\".format(label=labels_train[i]))\n",
    "        axs[1,i].imshow(images_test[i].reshape([28,28]),cmap='gray', aspect='auto')\n",
    "        axs[1,i].set_title(\"Label: {label}\".format(label=labels_test[i]))\n"
   ]
  },
  {
   "cell_type": "markdown",
   "metadata": {},
   "source": [
    "## NN Definition Functions"
   ]
  },
  {
   "cell_type": "code",
   "execution_count": 168,
   "metadata": {},
   "outputs": [],
   "source": [
    "class Dense:\n",
    "    # has properties:\n",
    "    # .learning_rate (number)\n",
    "    # .weights\n",
    "    # .biases\n",
    "    def __init__(self, input_units, output_units, learning_rate=0.1):\n",
    "        self.learning_rate = learning_rate\n",
    "        \n",
    "        # initialize weights with small random numbers. We use Xavier initialization\n",
    "        # https://andyljones.tumblr.com/post/110998971763/an-explanation-of-xavier-initialization\n",
    "        # https://towardsdatascience.com/weight-initialization-in-neural-networks-a-journey-from-the-basics-to-kaiming-954fb9b47c79\n",
    "        self.weights = np.random.normal(loc=0.0, \n",
    "                                        scale=math.sqrt(2/input_units), \n",
    "                                        size=(input_units,output_units)\n",
    "                                       )\n",
    "        self.biases = np.zeros(output_units)\n",
    "        \n",
    "    def forward(self,input):\n",
    "        return np.matmul(input, self.weights) + self.biases\n",
    "      \n",
    "    def backward(self,input,grad_output):\n",
    "        # compute d f / d x = d f / d dense * d dense / d x\n",
    "        # where d dense/ d x = weights transposed\n",
    "        grad_input = np.dot(grad_output,np.transpose(self.weights))\n",
    "\n",
    "        # compute gradient w.r.t. weights and biases\n",
    "        grad_weights = np.transpose(np.dot(np.transpose(grad_output),input))\n",
    "        grad_biases = np.sum(grad_output, axis = 0)\n",
    "        \n",
    "        # Here we perform a stochastic gradient descent step. \n",
    "        # Later on, you can try replacing that with something better.\n",
    "        self.weights = self.weights - self.learning_rate * grad_weights\n",
    "        self.biases = self.biases - self.learning_rate * grad_biases\n",
    "        return grad_input"
   ]
  },
  {
   "cell_type": "code",
   "execution_count": 169,
   "metadata": {},
   "outputs": [],
   "source": [
    "class ReLU:\n",
    "    def __init__(self):\n",
    "        \"\"\"ReLU layer simply applies elementwise rectified linear unit to all inputs\"\"\"\n",
    "        pass\n",
    "    \n",
    "    def forward(self, input):\n",
    "        \"\"\"Apply elementwise ReLU to [batch, input_units] matrix\"\"\"\n",
    "        return np.maximum(0,input)\n",
    "\n",
    "    def backward(self, input, grad_output):\n",
    "        \"\"\"Compute gradient of loss w.r.t. ReLU input\"\"\"\n",
    "        relu_grad = input > 0 # relu_grad is now 0 (false) or 1 (true) for each element of input\n",
    "        return grad_output * relu_grad "
   ]
  },
  {
   "cell_type": "code",
   "execution_count": 170,
   "metadata": {},
   "outputs": [],
   "source": [
    "def softmax_crossentropy_with_logits(logits,reference_answers):\n",
    "    \"\"\"Compute crossentropy from logits[batch,n_classes] and ids of correct answers\"\"\"\n",
    "    logits_for_answers = logits[np.arange(len(logits)),reference_answers]\n",
    "    \n",
    "    xentropy = - logits_for_answers + np.log(np.sum(np.exp(logits),axis=-1))\n",
    "    \n",
    "    return xentropy"
   ]
  },
  {
   "cell_type": "code",
   "execution_count": 171,
   "metadata": {},
   "outputs": [],
   "source": [
    "def grad_softmax_crossentropy_with_logits(logits,reference_answers):\n",
    "    \"\"\"Compute crossentropy gradient from logits[batch,n_classes] and ids of correct answers\"\"\"\n",
    "    ones_for_answers = np.zeros_like(logits)\n",
    "    ones_for_answers[np.arange(len(logits)),reference_answers] = 1\n",
    "    \n",
    "    softmax = np.exp(logits) / np.exp(logits).sum(axis=-1,keepdims=True)\n",
    "    \n",
    "    return (- ones_for_answers + softmax) / logits.shape[0]\n",
    "  "
   ]
  },
  {
   "cell_type": "code",
   "execution_count": 172,
   "metadata": {},
   "outputs": [],
   "source": [
    "def forward(network, images):\n",
    "    \"\"\"\n",
    "    Compute activations of all network layers by applying them sequentially.\n",
    "    Return a list of activations for each layer. \n",
    "    Make sure last activation corresponds to network logits.\n",
    "    \"\"\"\n",
    "    depth = len(network)\n",
    "    activations = []\n",
    "    # start with the input images as the 'activations'\n",
    "    input_values = images\n",
    "    \n",
    "    # now iterate through the layers passing outputs into inputs\n",
    "    for layer in network:\n",
    "        layer_activations = layer.forward(input_values)\n",
    "        activations.append(layer_activations)\n",
    "        input_values = layer_activations\n",
    "    \n",
    "    # check we have got activations values for all layers\n",
    "    assert len(activations) == depth\n",
    "    # return the complete stack of activation values for entire network \n",
    "    return activations"
   ]
  },
  {
   "cell_type": "code",
   "execution_count": 173,
   "metadata": {},
   "outputs": [],
   "source": [
    "def predict(network,X):\n",
    "    \"\"\"\n",
    "    Compute network predictions.\n",
    "    \"\"\"\n",
    "    # logits is the output of the last layer in network\n",
    "    logits = forward(network,X)[-1]\n",
    "    return logits.argmax(axis=-1)"
   ]
  },
  {
   "cell_type": "code",
   "execution_count": 174,
   "metadata": {},
   "outputs": [],
   "source": [
    "def train(network,image_batch,label_batch):\n",
    "    \"\"\"\n",
    "    Train your network on a given batch of images and labels.\n",
    "    You first need to run forward to get all layer activations.\n",
    "    Then you can run layer.backward going from last to first layer.\n",
    "    After you called backward for all layers, all Dense layers have already made one gradient step.\n",
    "    \"\"\"\n",
    "    \n",
    "    # The 'depth' of the neural network is simply how many layers we have,\n",
    "    # hence the term \"deep neural network\"\n",
    "    depth = len(network)\n",
    "    \n",
    "    # FORWARD PASS\n",
    "    # Get the layer activations\n",
    "    layer_activations = forward(network,image_batch)\n",
    "    \n",
    "    # logits is the output (i.e. 'activation') of the final layer\n",
    "    logits = layer_activations[-1]\n",
    "    \n",
    "    # COMPUTE ERROR (i.e. loss)\n",
    "    # Compute the loss and the initial gradient\n",
    "    loss = softmax_crossentropy_with_logits(logits,label_batch)\n",
    "    loss_grad = grad_softmax_crossentropy_with_logits(logits,label_batch)\n",
    "    \n",
    "    # BACKWARD PASS\n",
    "    for i in range(1, depth):\n",
    "        loss_grad = network[depth - i].backward(layer_activations[depth - i - 1], loss_grad)\n",
    "    \n",
    "    return np.mean(loss)\n",
    "  "
   ]
  },
  {
   "cell_type": "code",
   "execution_count": 175,
   "metadata": {},
   "outputs": [],
   "source": [
    "# This is a python iterator using \"yield\" (a bit like \"return\" but the procedure can later be continued)\n",
    "def iterate_batches(images, labels, batchsize, shuffle=False):\n",
    "    image_count = len(images)\n",
    "    assert image_count == len(labels)\n",
    "    \n",
    "    # if 'shuffle=True' create a new array 'random_indices' with randomized indexes into images array\n",
    "    if shuffle:\n",
    "        random_indices = np.random.permutation(image_count)\n",
    "\n",
    "    # batch_start starts at 0, is incremented by 'batch_size', up to start of last full batch in images\n",
    "    # Note use of 'trange' means tqdm progress bar module is used\n",
    "    for batch_start in trange(0, image_count-batchsize+1, batchsize):\n",
    "        # if 'shuffle=True' then get next batchsize slice from random_indices\n",
    "        if shuffle:\n",
    "            # this will give a slice definition as a 'batchsize' count of random indices\n",
    "            batch_indices = random_indices[batch_start : batch_start+batchsize]\n",
    "        # otherwise define the same batchsize slice from the actual images\n",
    "        else:\n",
    "            # this will give a simple batchsize contiguous slice definition from the images\n",
    "            batch_indices = slice(batch_start, batch_start+batchsize)\n",
    "        # now return the two matching slices of the images and labels\n",
    "        yield (images[batch_indices], labels[batch_indices])\n",
    "        "
   ]
  },
  {
   "cell_type": "code",
   "execution_count": 176,
   "metadata": {},
   "outputs": [
    {
     "name": "stdout",
     "output_type": "stream",
     "text": [
      "Loaded training images (60000, 28, 28)\n",
      "Loaded test images (10000, 28, 28)\n"
     ]
    }
   ],
   "source": [
    "(images_train, labels_train), (images_test, labels_test) = load_dataset(flatten=True)"
   ]
  },
  {
   "cell_type": "code",
   "execution_count": 177,
   "metadata": {},
   "outputs": [
    {
     "name": "stdout",
     "output_type": "stream",
     "text": [
      "training images:(60000, 784) labels:(60000,), test images:(10000, 784) labels:(10000,)\n"
     ]
    },
    {
     "data": {
      "image/png": "[encoded data removed]",
      "text/plain": [
       "<Figure size 720x360 with 8 Axes>"
      ]
     },
     "metadata": {
      "needs_background": "light"
     },
     "output_type": "display_data"
    }
   ],
   "source": [
    "print_load_data()"
   ]
  },
  {
   "cell_type": "markdown",
   "metadata": {},
   "source": [
    "## Create Neural Network from Layers"
   ]
  },
  {
   "cell_type": "code",
   "execution_count": 178,
   "metadata": {},
   "outputs": [],
   "source": [
    "np.random.seed(66)\n",
    "\n",
    "#nn = [ Dense(784,20), ReLU(), Dense(20,10)]\n",
    "\n",
    "nn = [Dense(784,100), ReLU(), Dense(100,200), ReLU(), Dense(200,10)]\n",
    "\n",
    "#network.append(Dense(images_train.shape[1],100))\n",
    "#network.append(ReLU())\n",
    "##network.append(Dense(100,10))\n",
    "#network.append(Dense(100,200))\n",
    "#network.append(ReLU())\n",
    "#network.append(Dense(200,10))"
   ]
  },
  {
   "cell_type": "markdown",
   "metadata": {},
   "source": [
    "## Train the network"
   ]
  },
  {
   "cell_type": "code",
   "execution_count": 179,
   "metadata": {},
   "outputs": [
    {
     "name": "stdout",
     "output_type": "stream",
     "text": [
      "Epoch 10\n",
      "Train accuracy: 0.9533166666666667\n",
      "Test accuracy: 0.9439\n"
     ]
    },
    {
     "data": {
      "image/png": "[encoded data removed]",
      "text/plain": [
       "<Figure size 432x288 with 1 Axes>"
      ]
     },
     "metadata": {
      "needs_background": "light"
     },
     "output_type": "display_data"
    }
   ],
   "source": [
    "# number of 'epochs' is how many times we want to iterate through all the training images\n",
    "epochs = 10\n",
    "\n",
    "# train_log and test_log will be the lists of accuracy values for each epoch\n",
    "train_log = [0]\n",
    "test_log = [0]\n",
    "\n",
    "for epoch in range(epochs):\n",
    "    \n",
    "    # Note iterate_batches uses module 'tqdm' to draw progress bar\n",
    "    for (image_batch,label_batch) in iterate_batches(images_train,labels_train,batchsize=32,shuffle=True):\n",
    "        train(nn,image_batch,label_batch)\n",
    "    \n",
    "    # Calculate ACCURACY for all the training images\n",
    "    # If for every image we create an element 0|1 as bool for prediction=label\n",
    "    # then the 'mean' of all those elements equates to the 'percentage' (0..1) accuracy.\n",
    "    # I.e. if 10 images give [0,1,0,0,1,1,1,0,1,1] then the mean of that array is 0.6 = accuracy\n",
    "    train_predict = predict(nn, images_train)\n",
    "    train_accuracy = np.mean(train_predict==labels_train)\n",
    "    \n",
    "    # Similarly for the test images\n",
    "    test_predict = predict(nn,images_test)\n",
    "    test_accuracy = np.mean(test_predict==labels_test)\n",
    "    \n",
    "    # The rest of this just prints the accuracy/epoch graph\n",
    "    clear_output()\n",
    "    \n",
    "    print(\"Epoch\",epoch+1)\n",
    "    print(\"Train accuracy:\",train_accuracy)\n",
    "    print(\"Test accuracy:\",test_accuracy)\n",
    "    \n",
    "    train_log.append(train_accuracy)\n",
    "    test_log.append(test_accuracy)\n",
    "    \n",
    "    plt.plot(train_log,label='train images')\n",
    "    plt.plot(test_log,label='test images')\n",
    "    plt.yscale('linear')\n",
    "    plt.gca().set_ylim([0.0,1.0])\n",
    "    plt.legend(loc='best')\n",
    "    plt.grid()\n",
    "    plt.show()"
   ]
  },
  {
   "cell_type": "markdown",
   "metadata": {},
   "source": [
    "## Test an image"
   ]
  },
  {
   "cell_type": "code",
   "execution_count": 157,
   "metadata": {},
   "outputs": [
    {
     "name": "stdout",
     "output_type": "stream",
     "text": [
      "[0, 0.8664833333333334, 0.8897833333333334, 0.90675, 0.92305, 0.9305, 0.9369666666666666, 0.94295, 0.9445, 0.946, 0.9533166666666667]\n"
     ]
    }
   ],
   "source": [
    "print(train_log)"
   ]
  },
  {
   "cell_type": "code",
   "execution_count": 193,
   "metadata": {},
   "outputs": [],
   "source": [
    "image_index = 0"
   ]
  },
  {
   "cell_type": "code",
   "execution_count": 211,
   "metadata": {},
   "outputs": [
    {
     "data": {
      "image/png": "[encoded data removed]",
      "text/plain": [
       "<Figure size 432x288 with 1 Axes>"
      ]
     },
     "metadata": {
      "needs_background": "light"
     },
     "output_type": "display_data"
    },
    {
     "name": "stdout",
     "output_type": "stream",
     "text": [
      "6\n",
      "(1, 10)\n",
      "[-5.366 -1.039 -2.963 -0.753 8.845 -0.024 -3.623 2.414 1.557 3.878]\n"
     ]
    },
    {
     "data": {
      "image/png": "[encoded data removed]",
      "text/plain": [
       "<Figure size 432x288 with 1 Axes>"
      ]
     },
     "metadata": {
      "needs_background": "light"
     },
     "output_type": "display_data"
    }
   ],
   "source": [
    "image_index = image_index + 1\n",
    "\n",
    "print_digit(images_test[image_index])\n",
    "\n",
    "layer_outputs = forward(nn,images_test[image_index:image_index+1])\n",
    "print(image_index)\n",
    "print(layer_outputs[-1].shape)\n",
    "logits = layer_outputs[-1][0]\n",
    "print(logits)\n",
    "\n",
    "print_logits(logits) # draw bar chart of logits\n",
    "\n",
    "#print(forward(nn,images_test[0:1]))"
   ]
  },
  {
   "cell_type": "code",
   "execution_count": 208,
   "metadata": {},
   "outputs": [
    {
     "name": "stdout",
     "output_type": "stream",
     "text": [
      "[array([[0.706, 1.090, 0.729, 0.105, -0.834, -0.102, 0.512, -0.652, 1.075,\n",
      "        -0.486, -0.144, 1.115, -0.599, 1.146, 0.873, -0.138, -0.148,\n",
      "        0.101, 0.473, -0.589, 0.320, -0.041, -0.491, -0.285, 0.814,\n",
      "        0.662, 0.788, 0.578, -0.942, 0.031, 0.605, 0.203, 0.557, 0.453,\n",
      "        -0.299, -0.732, -0.022, 1.027, -0.472, -0.188, 0.002, 0.047,\n",
      "        -0.194, 0.612, 0.417, -0.180, 0.289, 0.226, -0.474, 0.239, 0.652,\n",
      "        -0.106, 0.105, 0.320, -0.415, -0.555, -0.849, 0.082, -0.513,\n",
      "        -0.538, -0.060, -0.628, -0.179, -0.358, 0.342, 0.274, 0.853,\n",
      "        0.190, 0.278, 1.036, 0.044, 0.137, 0.528, 0.305, -0.356, -0.022,\n",
      "        -0.160, 0.685, -1.037, 0.302, 0.260, -0.252, -0.090, 0.097,\n",
      "        -0.436, 0.659, 0.208, -0.108, -0.339, 1.160, 0.712, -0.598,\n",
      "        0.666, 0.470, -0.328, 0.006, 0.234, -0.394, 0.016, -0.134]]), array([[0.706, 1.090, 0.729, 0.105, 0.000, 0.000, 0.512, 0.000, 1.075,\n",
      "        0.000, 0.000, 1.115, 0.000, 1.146, 0.873, 0.000, 0.000, 0.101,\n",
      "        0.473, 0.000, 0.320, 0.000, 0.000, 0.000, 0.814, 0.662, 0.788,\n",
      "        0.578, 0.000, 0.031, 0.605, 0.203, 0.557, 0.453, 0.000, 0.000,\n",
      "        0.000, 1.027, 0.000, 0.000, 0.002, 0.047, 0.000, 0.612, 0.417,\n",
      "        0.000, 0.289, 0.226, 0.000, 0.239, 0.652, 0.000, 0.105, 0.320,\n",
      "        0.000, 0.000, 0.000, 0.082, 0.000, 0.000, 0.000, 0.000, 0.000,\n",
      "        0.000, 0.342, 0.274, 0.853, 0.190, 0.278, 1.036, 0.044, 0.137,\n",
      "        0.528, 0.305, 0.000, 0.000, 0.000, 0.685, 0.000, 0.302, 0.260,\n",
      "        0.000, 0.000, 0.097, 0.000, 0.659, 0.208, 0.000, 0.000, 1.160,\n",
      "        0.712, 0.000, 0.666, 0.470, 0.000, 0.006, 0.234, 0.000, 0.016,\n",
      "        0.000]]), array([[0.915, 0.646, 0.877, -0.286, 0.914, 1.003, 0.719, 1.076, -0.711,\n",
      "        -0.054, 0.105, -0.845, -0.068, -0.740, 0.111, 0.855, -0.804,\n",
      "        -1.307, -0.601, 0.721, 1.051, -0.560, -2.532, 0.571, -0.878,\n",
      "        -0.127, -0.462, 1.140, -0.509, 0.380, 0.288, 0.975, -0.519,\n",
      "        -0.430, 0.894, 0.224, 0.231, 0.248, -0.300, 0.158, 0.360, -0.374,\n",
      "        0.472, 0.242, 0.394, -0.860, 0.632, 1.196, -0.127, 0.041, -0.353,\n",
      "        -0.445, 0.238, -0.625, 0.975, -0.713, -0.242, 0.092, -0.485,\n",
      "        -0.812, 0.212, -0.069, 0.659, 1.551, -0.601, -0.993, -0.903,\n",
      "        0.587, -1.152, 1.272, -0.153, 1.372, 0.544, -0.558, -0.044,\n",
      "        0.083, -0.583, 0.570, -0.277, 0.197, 0.331, -0.789, -0.073,\n",
      "        0.377, 0.680, -0.611, 0.432, -0.198, 0.756, 0.068, 0.353, -0.204,\n",
      "        -0.347, -1.046, -0.239, 0.611, -1.009, -0.645, -1.635, -0.135,\n",
      "        -0.513, -0.575, 1.610, 1.106, 0.783, -0.921, 0.797, -0.073,\n",
      "        -1.405, 0.052, -0.900, 0.264, -0.090, -0.043, 0.040, -0.779,\n",
      "        -0.046, -0.120, -0.411, 0.436, -0.493, 0.192, -0.315, -0.719,\n",
      "        0.601, -2.320, -0.425, 0.080, 0.861, 0.193, 1.137, 0.698, -2.049,\n",
      "        0.709, 0.084, -1.190, 0.740, -0.742, 0.803, 0.123, -0.913,\n",
      "        -0.401, 0.106, -1.192, -0.297, 0.055, 0.145, 0.093, 0.215,\n",
      "        -1.658, 0.213, -1.829, -0.141, -0.504, -0.610, -0.137, -0.039,\n",
      "        0.178, -1.244, -0.092, -1.234, -0.097, -0.315, 0.392, 0.093,\n",
      "        -0.386, 0.717, -0.532, 1.021, 0.183, -0.484, 0.581, 0.239,\n",
      "        -0.869, -0.937, 0.053, 1.199, 0.339, 0.465, -0.462, -0.705,\n",
      "        -0.248, 0.609, 0.586, 0.450, -0.858, -0.158, -1.802, 0.676,\n",
      "        0.059, -0.654, 0.805, -0.339, -0.871, -0.090, 0.048, -0.173,\n",
      "        -1.103, -0.656, -0.155]]), array([[0.915, 0.646, 0.877, 0.000, 0.914, 1.003, 0.719, 1.076, 0.000,\n",
      "        0.000, 0.105, 0.000, 0.000, 0.000, 0.111, 0.855, 0.000, 0.000,\n",
      "        0.000, 0.721, 1.051, 0.000, 0.000, 0.571, 0.000, 0.000, 0.000,\n",
      "        1.140, 0.000, 0.380, 0.288, 0.975, 0.000, 0.000, 0.894, 0.224,\n",
      "        0.231, 0.248, 0.000, 0.158, 0.360, 0.000, 0.472, 0.242, 0.394,\n",
      "        0.000, 0.632, 1.196, 0.000, 0.041, 0.000, 0.000, 0.238, 0.000,\n",
      "        0.975, 0.000, 0.000, 0.092, 0.000, 0.000, 0.212, 0.000, 0.659,\n",
      "        1.551, 0.000, 0.000, 0.000, 0.587, 0.000, 1.272, 0.000, 1.372,\n",
      "        0.544, 0.000, 0.000, 0.083, 0.000, 0.570, 0.000, 0.197, 0.331,\n",
      "        0.000, 0.000, 0.377, 0.680, 0.000, 0.432, 0.000, 0.756, 0.068,\n",
      "        0.353, 0.000, 0.000, 0.000, 0.000, 0.611, 0.000, 0.000, 0.000,\n",
      "        0.000, 0.000, 0.000, 1.610, 1.106, 0.783, 0.000, 0.797, 0.000,\n",
      "        0.000, 0.052, 0.000, 0.264, 0.000, 0.000, 0.040, 0.000, 0.000,\n",
      "        0.000, 0.000, 0.436, 0.000, 0.192, 0.000, 0.000, 0.601, 0.000,\n",
      "        0.000, 0.080, 0.861, 0.193, 1.137, 0.698, 0.000, 0.709, 0.084,\n",
      "        0.000, 0.740, 0.000, 0.803, 0.123, 0.000, 0.000, 0.106, 0.000,\n",
      "        0.000, 0.055, 0.145, 0.093, 0.215, 0.000, 0.213, 0.000, 0.000,\n",
      "        0.000, 0.000, 0.000, 0.000, 0.178, 0.000, 0.000, 0.000, 0.000,\n",
      "        0.000, 0.392, 0.093, 0.000, 0.717, 0.000, 1.021, 0.183, 0.000,\n",
      "        0.581, 0.239, 0.000, 0.000, 0.053, 1.199, 0.339, 0.465, 0.000,\n",
      "        0.000, 0.000, 0.609, 0.586, 0.450, 0.000, 0.000, 0.000, 0.676,\n",
      "        0.059, 0.000, 0.805, 0.000, 0.000, 0.000, 0.048, 0.000, 0.000,\n",
      "        0.000, 0.000]]), array([[-1.776, -3.645, 3.322, -0.483, -0.989, 4.466, 4.671, -4.675,\n",
      "        0.199, 0.437]])]\n"
     ]
    }
   ],
   "source": [
    "print(forward(nn,images_test[8:9]))"
   ]
  },
  {
   "cell_type": "markdown",
   "metadata": {},
   "source": [
    "## New hand-drawn test images"
   ]
  },
  {
   "cell_type": "code",
   "execution_count": 214,
   "metadata": {},
   "outputs": [
    {
     "name": "stdout",
     "output_type": "stream",
     "text": [
      "imported image shape (28, 28, 3)\n",
      "monochrome shape (28, 28)\n",
      "flattened image shape (784,)\n"
     ]
    },
    {
     "data": {
      "image/png": "[encoded data removed]",
      "text/plain": [
       "<Figure size 432x288 with 1 Axes>"
      ]
     },
     "metadata": {
      "needs_background": "light"
     },
     "output_type": "display_data"
    },
    {
     "name": "stdout",
     "output_type": "stream",
     "text": [
      "[-0.585 -0.028 2.192 -1.701 -0.236 2.452 3.664 -3.299 0.905 -3.076]\n"
     ]
    },
    {
     "data": {
      "image/png": "[encoded data removed]",
      "text/plain": [
       "<Figure size 432x288 with 1 Axes>"
      ]
     },
     "metadata": {
      "needs_background": "light"
     },
     "output_type": "display_data"
    }
   ],
   "source": [
    "ijl20_6 = plt.imread('ijl20_6.png') # loads image as RGB\n",
    "print(\"imported image shape\",ijl20_6.shape) # (28,28,3)\n",
    "ijl20_6 = np.mean(ijl20_6,-1)\n",
    "print(\"monochrome shape\",ijl20_6.shape)\n",
    "ijl20_6 = ijl20_6.reshape(-1)\n",
    "print(\"flattened image shape\",ijl20_6.shape)\n",
    "print_digit(ijl20_6)\n",
    "\n",
    "layer_outputs = forward(nn,[ijl20_6])\n",
    "logits = layer_outputs[-1][0]\n",
    "print(logits)\n",
    "\n",
    "print_logits(logits) # draw bar chart of logits"
   ]
  },
  {
   "cell_type": "markdown",
   "metadata": {},
   "source": [
    "## Draw accuracy / time plot"
   ]
  },
  {
   "cell_type": "code",
   "execution_count": 45,
   "metadata": {},
   "outputs": [
    {
     "data": {
      "image/png": "[encoded data removed]",
      "text/plain": [
       "<Figure size 1296x864 with 1 Axes>"
      ]
     },
     "metadata": {
      "needs_background": "light"
     },
     "output_type": "display_data"
    }
   ],
   "source": [
    "from matplotlib.ticker import MultipleLocator\n",
    "\n",
    "fig = plt.figure(figsize=(18,12))\n",
    "ax = fig.add_subplot(1, 1, 1)\n",
    "\n",
    "ax.set_title(\"MNIST CNN 784->28x28->conv(5x5x32)->max_pool[2,2]->6272->1024->10 Accuracy vs. Time(s)\", fontsize='large')\n",
    "\n",
    "## Set up Time x axis\n",
    "\n",
    "ax.set_xlabel(\"Time (s)\")\n",
    "# Min x axis value is 0 (so y-axis crosses at x=0)\n",
    "ax.set_xlim(left=0)\n",
    "# x ticks at 10s\n",
    "ax.set_xticks(np.arange(0.0,max(graph_data_time),STEPS_COUNT))\n",
    "ax.xaxis.grid(which='major', color='b', linewidth=1.3)\n",
    "\n",
    "## Set up Accuracy y axis\n",
    "\n",
    "ax.set_ylabel(\"Accuracy\")\n",
    "ax.set_ylim(bottom=0)\n",
    "# Set Accuracy tick locations and define horizontal grid lines\n",
    "minorLocator = MultipleLocator(0.05)\n",
    "majorLocator = MultipleLocator(0.1)\n",
    "ax.yaxis.set_minor_locator(minorLocator)\n",
    "ax.yaxis.set_major_locator(majorLocator)\n",
    "ax.yaxis.grid(which='major', color='b', linewidth=1.3)\n",
    "ax.yaxis.grid(which='minor', color='g')\n",
    "\n",
    "# Plot the chart\n",
    "ax.plot(graph_data_time, graph_data_accuracy)\n",
    "\n",
    "plt.minorticks_on()\n",
    "plt.xticks(rotation=90)\n",
    "plt.show(fig)"
   ]
  },
  {
   "cell_type": "code",
   "execution_count": null,
   "metadata": {},
   "outputs": [],
   "source": []
  }
 ],
 "metadata": {
  "kernelspec": {
   "display_name": "Python 3",
   "language": "python",
   "name": "python3"
  },
  "language_info": {
   "codemirror_mode": {
    "name": "ipython",
    "version": 3
   },
   "file_extension": ".py",
   "mimetype": "text/x-python",
   "name": "python",
   "nbconvert_exporter": "python",
   "pygments_lexer": "ipython3",
   "version": "3.6.5"
  }
 },
 "nbformat": 4,
 "nbformat_minor": 2
}
