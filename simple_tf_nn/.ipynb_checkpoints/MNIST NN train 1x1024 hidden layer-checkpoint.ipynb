{
 "cells": [
  {
   "cell_type": "markdown",
   "metadata": {},
   "source": [
    "# Simple Neural Network Train on MNIST digits\n",
    "\n",
    "We will create the simplest image-classifying neural network using Tensorflow to recognize 28x28 pixel grayscale images of hand drawn numerical digits (i.e. the MNIST data set).\n",
    "\n",
    "The neural network we build will have:\n",
    "* an input layer\n",
    "* a single hidden layer\n",
    "* an output layer\n",
    "\n",
    "Our simple network will ingest each digit as a flattened 784-number vector and hence the input layer is 784 units wide. We will use a fully connected 'hidden layer' arbitrarily sized at 1024 units wide. The output layer will be 10 units wide assuming the one-hot method of encoding the categorization i.e. the zeroeth unit output represents the recognition of digit \"zero\" .. the tenth as digit \"nine\".\n",
    "\n",
    "I.e. in summary the nework is fully connected with layers of 784 -> 1024 -> 10."
   ]
  },
  {
   "cell_type": "markdown",
   "metadata": {},
   "source": [
    "## import MNIST TRAINING 28x28 digits\n",
    "CSV file each row is <category><pixels 0..783>\n",
    "    \n",
    "Here we set up the imports and define the data import routine.\n",
    "\n",
    "The MNIST training data set contains 60000 images, each with their 0..9 classification.\n",
    "\n",
    "Each MNIST digit is a 28x28 grayscale image, flattened into a single 784-element row of the CSV file, with each element being between 0.0 and 1.0 being the grayscale of that pixel.\n",
    "\n",
    "Each row of the training data also has an *additional* first element 0..9 representing the 'correct answer' (we will call it the digits *label*) for the corresponding image in the rest of the row. E.g. a row containing an image for the number \"5\" will be\n",
    "```5,<image pixel data>``` where as described above the pixel data is 784 numbers between 0.0 and 1.0.\n",
    "\n",
    "Hence the MNIST training data set is a 60000x785 CSV file of 60,000 rows (i.e. 60,000 images), each of 785 numbers.\n",
    "\n",
    "For our purposes we will strip the images and labels into separate matrices, and also we will convert each label into its one-hot representation, e.g. \"5\" becomes \"0,0,0,0,0,1,0,0,0,0\""
   ]
  },
  {
   "cell_type": "code",
   "execution_count": 1,
   "metadata": {},
   "outputs": [],
   "source": [
    "DATA_DIR = '../../Data/mnist/' # Contains the mnist_train.csv file"
   ]
  },
  {
   "cell_type": "code",
   "execution_count": 2,
   "metadata": {},
   "outputs": [],
   "source": [
    "import math\n",
    "import random\n",
    "import numpy as np\n",
    "import time\n",
    "\n",
    "%matplotlib inline\n",
    "\n",
    "import matplotlib.image as mpimg\n",
    "import matplotlib.pyplot as plt\n",
    "\n",
    "import tensorflow as tf\n",
    "\n",
    "def load_mnist():\n",
    "    print('Loading MNIST training data...')\n",
    "    file_data = np.loadtxt(DATA_DIR+'mnist_train.csv', delimiter = ',')\n",
    "    print('Loaded MNIST training data, shape {0} dtype {1}'.format(file_data.shape, file_data.dtype))\n",
    "    # extract first element (label) from each row of the data, and convert to one-hot 0..9\n",
    "    labels = file_data[:,0].astype(int) # 1st element of each row is label\n",
    "    one_hot_labels = np.zeros((labels.size, 10)) # initialize same length array with 10-element zero vectors\n",
    "    one_hot_labels[np.arange(labels.size),labels] = 1 # set the n'th element of one-hot vector to 1 (n=label)\n",
    "    # extract the digit pixels\n",
    "    digits = file_data[:,1:] # remaining elements are 784-pixel vectors\n",
    "    digits -= digits.min() # scale the data so values are between 0 and 1\n",
    "    digits /= digits.max() # scale\n",
    "    \n",
    "    return (one_hot_labels, digits)"
   ]
  },
  {
   "cell_type": "markdown",
   "metadata": {},
   "source": [
    "### Call load_mnist() to import the actual MNIST data from the Data/mnist_train.csv file\n",
    "Note this can take ~30 seconds, when complete you should see all 3 messages\n",
    "```\n",
    "Loading MNIST training data...\n",
    "Loaded MNIST training data, shape (60000, 785) dtype float64\n",
    "data_labels.shape (60000, 10)\n",
    "data_digits.shape (60000, 784)\n",
    "```"
   ]
  },
  {
   "cell_type": "code",
   "execution_count": 3,
   "metadata": {},
   "outputs": [
    {
     "name": "stdout",
     "output_type": "stream",
     "text": [
      "Loading MNIST training data...\n",
      "Loaded MNIST training data, shape (60000, 785) dtype float64\n",
      "data_labels.shape (60000, 10)\n",
      "data_digits.shape (60000, 784)\n"
     ]
    }
   ],
   "source": [
    "(data_labels,data_digits) = load_mnist()\n",
    "\n",
    "print('data_labels.shape {0}'.format(data_labels.shape))\n",
    "print('data_digits.shape {0}'.format(data_digits.shape))\n"
   ]
  },
  {
   "cell_type": "markdown",
   "metadata": {},
   "source": [
    "### Inspect the first digit\n",
    "\n",
    "First we need to write a utility function to display a digit. We'll use matplotlib."
   ]
  },
  {
   "cell_type": "code",
   "execution_count": 4,
   "metadata": {},
   "outputs": [],
   "source": [
    "def print_digit(digit):\n",
    "    test_digit = np.mat(digit).reshape(28,28)\n",
    "    plt.imshow(test_digit, cmap='gray')\n",
    "    plt.show()\n",
    "    "
   ]
  },
  {
   "cell_type": "code",
   "execution_count": 5,
   "metadata": {},
   "outputs": [
    {
     "data": {
      "image/png": "[encoded data removed]",
      "text/plain": [
       "<Figure size 432x288 with 1 Axes>"
      ]
     },
     "metadata": {
      "needs_background": "light"
     },
     "output_type": "display_data"
    }
   ],
   "source": [
    "print_digit(data_digits[0])"
   ]
  },
  {
   "cell_type": "code",
   "execution_count": 6,
   "metadata": {},
   "outputs": [
    {
     "data": {
      "text/plain": [
       "array([0., 0., 0., 0., 0., 1., 0., 0., 0., 0.])"
      ]
     },
     "execution_count": 6,
     "metadata": {},
     "output_type": "execute_result"
    }
   ],
   "source": [
    "data_labels[0]"
   ]
  },
  {
   "cell_type": "markdown",
   "metadata": {},
   "source": [
    "## use Tensorflow to classify the images\n",
    "\n",
    "First we'll create a trivial 'hello world' tensorflow session just to see things working, this is nothing to do with actually recognizing the images..."
   ]
  },
  {
   "cell_type": "code",
   "execution_count": 7,
   "metadata": {},
   "outputs": [
    {
     "name": "stdout",
     "output_type": "stream",
     "text": [
      "[ 5 12 21 32]\n"
     ]
    }
   ],
   "source": [
    "\n",
    "sess = tf.InteractiveSession()\n",
    "\n",
    "x1 = tf.constant([1,2,3,4])\n",
    "x2 = tf.constant([5,6,7,8])\n",
    "result = tf.multiply(x1,x2)\n",
    "print(sess.run(result))\n",
    "sess.close()"
   ]
  },
  {
   "cell_type": "markdown",
   "metadata": {},
   "source": [
    "Let's just confirm our 60000x784 'data_digits' archive has the pixels calibrated 0.0..1.0 as we expect:"
   ]
  },
  {
   "cell_type": "code",
   "execution_count": 8,
   "metadata": {},
   "outputs": [
    {
     "name": "stdout",
     "output_type": "stream",
     "text": [
      "pixel data range 0.0..1.0\n"
     ]
    }
   ],
   "source": [
    "print('pixel data range {0}..{1}'.format(data_digits.min(),data_digits.max()))"
   ]
  },
  {
   "cell_type": "markdown",
   "metadata": {},
   "source": [
    "### Define some constants.\n",
    "These include our network *hyper-parameters* i.e. the arbitarily chosen dimensions that seem to work for our problem"
   ]
  },
  {
   "cell_type": "code",
   "execution_count": 9,
   "metadata": {},
   "outputs": [],
   "source": [
    "# Just our data spec\n",
    "IMAGE_SIZE_X = 28\n",
    "IMAGE_SIZE_Y = 28\n",
    "IMAGE_SIZE = IMAGE_SIZE_X * IMAGE_SIZE_Y\n",
    "\n",
    "# NN Hyper-parameters\n",
    "INPUT_SIZE = IMAGE_SIZE\n",
    "LABELS_SIZE = 10\n",
    "HIDDEN_SIZE = 1024\n",
    "GRADIENT_DESCENT_STEP_SIZE = 1e-4 # aka 0.0001"
   ]
  },
  {
   "cell_type": "markdown",
   "metadata": {},
   "source": [
    "## Woot, here we define the actual Neural Network\n",
    "Note that in tensorflow each layer is declared as a 'lazy' function for future evaluation (see __[Eduonix tensorflow tutorial](https://www.youtube.com/watch?v=dmBgC-pEBIg&list=PLDmvslp_VR0z38Mpr8G3-5ob-GynDC2pH)__)\n",
    "\n",
    "So here we're just setting up the data flow, not executing the training algorithm."
   ]
  },
  {
   "cell_type": "code",
   "execution_count": 10,
   "metadata": {},
   "outputs": [],
   "source": [
    "layer_input = tf.placeholder(tf.float32, [None, INPUT_SIZE])\n",
    "layer_hidden = tf.layers.dense(inputs=layer_input, units=HIDDEN_SIZE, activation=tf.nn.relu)\n",
    "layer_output = tf.layers.dense(inputs=layer_hidden, units=LABELS_SIZE)"
   ]
  },
  {
   "cell_type": "markdown",
   "metadata": {},
   "source": [
    "In addition we'll define a tensorflow structure to hold the 'correct answer', i.e. the labels provided in the training data set."
   ]
  },
  {
   "cell_type": "code",
   "execution_count": 11,
   "metadata": {},
   "outputs": [],
   "source": [
    "layer_labels = tf.placeholder(tf.float32, [None, LABELS_SIZE])"
   ]
  },
  {
   "cell_type": "markdown",
   "metadata": {},
   "source": [
    "Here we define the 'loss' (aka 'error') function, ultimately to provide a scalar value representing the error between the guessed label and the 'correct' label. E.g. given a guess at the number \"5\":\n",
    "```\n",
    "layer_labels [0.0, 0.0, 0.0, 0.0, 0.0, 1.0, 0.0, 0.0, 0.0, 0.0] # correct answer\n",
    "layer_output [0.1, 0.0, 0.2, 0.0, 0.1, 0.7, 0.1, 0.2, 0.0, 0.1] # guess\n",
    "->\n",
    "0.35\n",
    "```\n",
    "Keep in mind there's an important subtlety here, where the tensorflow functions are designed to ingest entire *tensors*, so actually the loss function can ultimately be computed as a matrix operation on the entire 60000x784, 60000x10, 60000x10 input, output and label tensors respectively. Nevertheless IMHO there's value in mentally keeping track of this process in terms of an image at a time.\n",
    "\n",
    "Hopefully it now makes sense that the loss function works on the difference between the `layer_labels` and the the `layer_output` i.e. the \"correct answer\" and the \"guessed answer\"."
   ]
  },
  {
   "cell_type": "code",
   "execution_count": 12,
   "metadata": {},
   "outputs": [],
   "source": [
    "loss = tf.losses.softmax_cross_entropy(layer_labels, layer_output)"
   ]
  },
  {
   "cell_type": "markdown",
   "metadata": {},
   "source": [
    "Given the network defined above, we can now define the **backpropagation** training function.  This is the particular benefit of using tensorflow: each of the earlier layer definition functions has a pre-defined differential that can be used in a typical 'gradient descent'-type error minimisation algorithm.\n",
    "\n",
    "For our purposes we'll use the tensorflow-provided `AdamOptimizer()`, and you'll see we necessarily tell it the function to use (i.e. our `loss()` function) giving the error value that is to be minimized."
   ]
  },
  {
   "cell_type": "code",
   "execution_count": 13,
   "metadata": {},
   "outputs": [],
   "source": [
    "train_step = tf.train.AdamOptimizer(GRADIENT_DESCENT_STEP_SIZE).minimize(loss)"
   ]
  },
  {
   "cell_type": "markdown",
   "metadata": {},
   "source": [
    "As kind of an inverse consideration to the 0.0..1.0 `loss` function, we'll create an `accuracy` value which is what proportion of the time did the network get the guess 'right'. For these functions it is helpful to think of them given the entire 60000-row input tensor. \n",
    "\n",
    "The `correct_prediction` contains True where the `output` (aka guess) strongest suggestion matches the training label correct answer, e.g.\n",
    "```\n",
    "layer_labels [0.0, 0.0, 0.0, 0.0, 0.0, 1.0, 0.0, 0.0, 0.0, 0.0] # correct answer\n",
    "layer_output [0.1, 0.0, 0.2, 0.0, 0.1, 0.7, 0.1, 0.2, 0.0, 0.1] # guess\n",
    "->\n",
    "True\n",
    "```"
   ]
  },
  {
   "cell_type": "code",
   "execution_count": 14,
   "metadata": {},
   "outputs": [],
   "source": [
    "correct_prediction = tf.equal(tf.argmax(layer_output, 1), tf.argmax(layer_labels, 1))"
   ]
  },
  {
   "cell_type": "markdown",
   "metadata": {},
   "source": [
    "Our `accuracy` function uses tf.cast to convert each `correct_prediction` True and False to 1.0 and 0.0 respectively, and then find the arithmetic mean of the entire list. The average of the ones and zeroes is exactly the same as the proportion of ones (think about it)."
   ]
  },
  {
   "cell_type": "code",
   "execution_count": 15,
   "metadata": {},
   "outputs": [],
   "source": [
    "accuracy = tf.reduce_mean(tf.cast(correct_prediction, tf.float32))"
   ]
  },
  {
   "cell_type": "markdown",
   "metadata": {},
   "source": [
    "## Finally, here's where we run the training model\n",
    "\n",
    "Actually we run through the training data in 'steps', so for each step we can output an accuracy value. E.g. for the first step we could pass the first 1000 images through the network (0..999), output an accuracy value, then use images 1000..1999, then 2000..2999 etc. On each step we should see the accuracy improve."
   ]
  },
  {
   "cell_type": "code",
   "execution_count": 16,
   "metadata": {},
   "outputs": [
    {
     "name": "stdout",
     "output_type": "stream",
     "text": [
      "step   0 digits 12345..24690 accuracy 0.114\n",
      "step   1 digits 24690..37035 accuracy 0.155\n",
      "step   2 digits 37035..49380 accuracy 0.183\n",
      "step   3 digits  1725..12345 accuracy 0.251\n",
      "step   4 digits 14070..26415 accuracy 0.292\n",
      "step   5 digits 26415..38760 accuracy 0.363\n",
      "step   6 digits 38760..51105 accuracy 0.432\n",
      "step   7 digits  3450..12345 accuracy 0.522\n",
      "step   8 digits 15795..28140 accuracy 0.562\n",
      "step   9 digits 28140..40485 accuracy 0.601\n"
     ]
    }
   ],
   "source": [
    "sess = tf.InteractiveSession()\n",
    "sess.run(tf.global_variables_initializer())\n",
    "\n",
    "STEP_SIZE = 12345\n",
    "STEPS_COUNT = 10\n",
    "(DATA_COUNT,_) = data_digits.shape\n",
    "\n",
    "step_cursor = 0\n",
    "\n",
    "# record start time\n",
    "START_TIME = time.process_time()\n",
    "\n",
    "# create lists to hold time, accuracy tuples\n",
    "graph_data_time = []\n",
    "graph_data_accuracy = []\n",
    "\n",
    "for i in range(STEPS_COUNT):\n",
    "    # update cursor to select current 'step' of training data\n",
    "    step_cursor += STEP_SIZE # index into data_digits and data_labels for current step\n",
    "    step_limit = step_cursor + STEP_SIZE # limit index for end of batch\n",
    "    if step_limit > DATA_COUNT:\n",
    "        step_cursor = step_limit - DATA_COUNT # wrap around to start of data\n",
    "        step_limit = STEP_SIZE\n",
    "    \n",
    "    # create input digits step_digits and asociated labels step_labels\n",
    "    step_digits = data_digits[step_cursor:step_limit]\n",
    "    step_labels = data_labels[step_cursor:step_limit]\n",
    "\n",
    "    # create tensorflow 'feed dictionary' that maps inputs to tensorflow tensors\n",
    "    feed_dict={layer_input: step_digits, layer_labels: step_labels}\n",
    "    \n",
    "    # do training run for this step\n",
    "    train_step.run(feed_dict=feed_dict)\n",
    "    \n",
    "    # calculate accuracy\n",
    "    train_accuracy = accuracy.eval(feed_dict=feed_dict)\n",
    "    \n",
    "    # note process time for this step in ns\n",
    "    execution_time_ns = time.process_time() - START_TIME\n",
    "    \n",
    "    graph_data_time.append(execution_time_ns)\n",
    "    graph_data_accuracy.append(train_accuracy)\n",
    "    \n",
    "    print('step {0:3d} digits {1:5d}..{2:5d} accuracy {3:.3f}'.format(i,step_cursor, step_limit, train_accuracy))\n",
    "    \n",
    "sess.close()\n"
   ]
  },
  {
   "cell_type": "code",
   "execution_count": 17,
   "metadata": {},
   "outputs": [
    {
     "data": {
      "image/png": "[encoded data removed]",
      "text/plain": [
       "<Figure size 864x576 with 1 Axes>"
      ]
     },
     "metadata": {
      "needs_background": "light"
     },
     "output_type": "display_data"
    }
   ],
   "source": [
    "from matplotlib.ticker import MultipleLocator\n",
    "\n",
    "fig = plt.figure(figsize=(12,8))\n",
    "ax = fig.add_subplot(1, 1, 1)\n",
    "\n",
    "ax.set_title(\"NN 784->1024->10 Accuracy vs. Time(s)\", fontsize='large')\n",
    "\n",
    "## Set up Time x axis\n",
    "\n",
    "ax.set_xlabel(\"Time (s)\")\n",
    "# Min x axis value is 0 (so y-axis crosses at x=0)\n",
    "ax.set_xlim(left=0)\n",
    "# x ticks at 10s\n",
    "ax.set_xticks(np.arange(0.0,max(graph_data_time),10))\n",
    "ax.xaxis.grid(which='major', color='b', linewidth=1.3)\n",
    "\n",
    "## Set up Accuracy y axis\n",
    "\n",
    "ax.set_ylabel(\"Accuracy\")\n",
    "ax.set_ylim(bottom=0)\n",
    "# Set Accuracy tick locations and define horizontal grid lines\n",
    "minorLocator = MultipleLocator(0.05)\n",
    "majorLocator = MultipleLocator(0.1)\n",
    "ax.yaxis.set_minor_locator(minorLocator)\n",
    "ax.yaxis.set_major_locator(majorLocator)\n",
    "ax.yaxis.grid(which='major', color='b', linewidth=1.3)\n",
    "ax.yaxis.grid(which='minor', color='g')\n",
    "\n",
    "# Plot the chart\n",
    "ax.plot(graph_data_time, graph_data_accuracy)\n",
    "\n",
    "plt.minorticks_on()\n",
    "plt.xticks(rotation=90)\n",
    "plt.show(fig)"
   ]
  },
  {
   "cell_type": "code",
   "execution_count": null,
   "metadata": {},
   "outputs": [],
   "source": []
  }
 ],
 "metadata": {
  "kernelspec": {
   "display_name": "Python 3",
   "language": "python",
   "name": "python3"
  },
  "language_info": {
   "codemirror_mode": {
    "name": "ipython",
    "version": 3
   },
   "file_extension": ".py",
   "mimetype": "text/x-python",
   "name": "python",
   "nbconvert_exporter": "python",
   "pygments_lexer": "ipython3",
   "version": "3.6.7"
  }
 },
 "nbformat": 4,
 "nbformat_minor": 2
}
