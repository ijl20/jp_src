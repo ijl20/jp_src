{
 "cells": [
  {
   "cell_type": "markdown",
   "metadata": {},
   "source": [
    "# Simple Neural Network Train on MNIST digits\n",
    "\n",
    "We will create the simplest image-classifying neural network using Tensorflow to recognize 28x28 pixel grayscale images of hand drawn numerical digits (i.e. the MNIST data set).\n",
    "\n",
    "The neural network we build will have:\n",
    "* an input layer\n",
    "* a single hidden layer\n",
    "* an output layer\n",
    "\n",
    "Our simple network will ingest each digit as a flattened 784-number vector and hence the input layer is 784 units wide. We will use a fully connected 'hidden layer' arbitrarily sized at 1024 units wide. The output layer will be 10 units wide assuming the one-hot method of encoding the categorization i.e. the zeroeth unit output represents the recognition of digit \"zero\" .. the tenth as digit \"nine\".\n",
    "\n",
    "I.e. in summary the nework is fully connected with layers of 784 -> 1024 -> 10."
   ]
  },
  {
   "cell_type": "markdown",
   "metadata": {},
   "source": [
    "## import MNIST TRAINING 28x28 digits\n",
    "CSV file each row is <category><pixels 0..783>\n",
    "    \n",
    "Here we set up the imports and define the data import routine.\n",
    "\n",
    "The MNIST training data set contains 60000 images, each with their 0..9 classification.\n",
    "\n",
    "Each MNIST digit is a 28x28 grayscale image, flattened into a single 784-element row of the CSV file, with each element being between 0.0 and 1.0 being the grayscale of that pixel.\n",
    "\n",
    "Each row of the training data also has an *additional* first element 0..9 representing the 'correct answer' (we will call it the digits *label*) for the corresponding image in the rest of the row. E.g. a row containing an image for the number \"5\" will be\n",
    "```5,<image pixel data>``` where as described above the pixel data is 784 numbers between 0.0 and 1.0.\n",
    "\n",
    "Hence the MNIST training data set is a 60000x785 CSV file of 60,000 rows (i.e. 60,000 images), each of 785 numbers.\n",
    "\n",
    "For our purposes we will strip the images and labels into separate matrices, and also we will convert each label into its one-hot representation, e.g. \"5\" becomes \"0,0,0,0,0,1,0,0,0,0\""
   ]
  },
  {
   "cell_type": "code",
   "execution_count": 21,
   "metadata": {},
   "outputs": [],
   "source": [
    "DATA_DIR = '../../Data/mnist/' # Contains the mnist_train.csv file"
   ]
  },
  {
   "cell_type": "code",
   "execution_count": 22,
   "metadata": {},
   "outputs": [],
   "source": [
    "import math\n",
    "import random\n",
    "import numpy as np\n",
    "import time\n",
    "\n",
    "%matplotlib inline\n",
    "\n",
    "import matplotlib.image as mpimg\n",
    "import matplotlib.pyplot as plt\n",
    "\n",
    "import tensorflow as tf\n",
    "\n",
    "def load_mnist():\n",
    "    print('Loading MNIST training data...')\n",
    "    file_data = np.loadtxt(DATA_DIR+'mnist_train.csv', delimiter = ',')\n",
    "    print('Loaded MNIST training data, shape {0} dtype {1}'.format(file_data.shape, file_data.dtype))\n",
    "    # extract first element (label) from each row of the data, and convert to one-hot 0..9\n",
    "    labels = file_data[:,0].astype(int) # 1st element of each row is label\n",
    "    one_hot_labels = np.zeros((labels.size, 10)) # initialize same length array with 10-element zero vectors\n",
    "    one_hot_labels[np.arange(labels.size),labels] = 1 # set the n'th element of one-hot vector to 1 (n=label)\n",
    "    # extract the digit pixels\n",
    "    digits = file_data[:,1:] # remaining elements are 784-pixel vectors\n",
    "    digits -= digits.min() # scale the data so values are between 0 and 1\n",
    "    digits /= digits.max() # scale\n",
    "    \n",
    "    return (one_hot_labels, digits)"
   ]
  },
  {
   "cell_type": "markdown",
   "metadata": {},
   "source": [
    "### Call load_mnist() to import the actual MNIST data from the Data/mnist_train.csv file\n",
    "Note this can take ~30 seconds, when complete you should see all 3 messages\n",
    "```\n",
    "Loading MNIST training data...\n",
    "Loaded MNIST training data, shape (60000, 785) dtype float64\n",
    "data_labels.shape (60000, 10)\n",
    "data_digits.shape (60000, 784)\n",
    "```"
   ]
  },
  {
   "cell_type": "code",
   "execution_count": 23,
   "metadata": {},
   "outputs": [
    {
     "name": "stdout",
     "output_type": "stream",
     "text": [
      "Loading MNIST training data...\n",
      "Loaded MNIST training data, shape (60000, 785) dtype float64\n",
      "data_labels.shape (60000, 10)\n",
      "data_digits.shape (60000, 784)\n"
     ]
    }
   ],
   "source": [
    "(data_labels,data_digits) = load_mnist()\n",
    "\n",
    "print('data_labels.shape {0}'.format(data_labels.shape))\n",
    "print('data_digits.shape {0}'.format(data_digits.shape))\n"
   ]
  },
  {
   "cell_type": "markdown",
   "metadata": {},
   "source": [
    "### Inspect the first digit\n",
    "\n",
    "First we need to write a utility function to display a digit. We'll use matplotlib."
   ]
  },
  {
   "cell_type": "code",
   "execution_count": 24,
   "metadata": {},
   "outputs": [],
   "source": [
    "def print_digit(digit):\n",
    "    test_digit = np.mat(digit).reshape(28,28)\n",
    "    plt.imshow(test_digit, cmap='gray')\n",
    "    plt.show()\n",
    "    "
   ]
  },
  {
   "cell_type": "code",
   "execution_count": 25,
   "metadata": {},
   "outputs": [
    {
     "data": {
      "image/png": "[encoded data removed]",
      "text/plain": [
       "<Figure size 432x288 with 1 Axes>"
      ]
     },
     "metadata": {
      "needs_background": "light"
     },
     "output_type": "display_data"
    }
   ],
   "source": [
    "print_digit(data_digits[0])"
   ]
  },
  {
   "cell_type": "code",
   "execution_count": 26,
   "metadata": {},
   "outputs": [
    {
     "data": {
      "text/plain": [
       "array([0., 0., 0., 0., 0., 1., 0., 0., 0., 0.])"
      ]
     },
     "execution_count": 26,
     "metadata": {},
     "output_type": "execute_result"
    }
   ],
   "source": [
    "data_labels[0]"
   ]
  },
  {
   "cell_type": "markdown",
   "metadata": {},
   "source": [
    "## use Tensorflow to classify the images\n",
    "\n",
    "First we'll create a trivial 'hello world' tensorflow session just to see things working, this is nothing to do with actually recognizing the images..."
   ]
  },
  {
   "cell_type": "code",
   "execution_count": 27,
   "metadata": {},
   "outputs": [
    {
     "name": "stdout",
     "output_type": "stream",
     "text": [
      "[ 5 12 21 32]\n"
     ]
    }
   ],
   "source": [
    "\n",
    "sess = tf.InteractiveSession()\n",
    "\n",
    "x1 = tf.constant([1,2,3,4])\n",
    "x2 = tf.constant([5,6,7,8])\n",
    "result = tf.multiply(x1,x2)\n",
    "print(sess.run(result))\n",
    "sess.close()"
   ]
  },
  {
   "cell_type": "markdown",
   "metadata": {},
   "source": [
    "Let's just confirm our 60000x784 'data_digits' archive has the pixels calibrated 0.0..1.0 as we expect:"
   ]
  },
  {
   "cell_type": "code",
   "execution_count": 28,
   "metadata": {},
   "outputs": [
    {
     "name": "stdout",
     "output_type": "stream",
     "text": [
      "pixel data range 0.0..1.0\n"
     ]
    }
   ],
   "source": [
    "print('pixel data range {0}..{1}'.format(data_digits.min(),data_digits.max()))"
   ]
  },
  {
   "cell_type": "markdown",
   "metadata": {},
   "source": [
    "### Define some constants.\n",
    "These include our network *hyper-parameters* i.e. the arbitarily chosen dimensions that seem to work for our problem"
   ]
  },
  {
   "cell_type": "code",
   "execution_count": 29,
   "metadata": {},
   "outputs": [],
   "source": [
    "# Just our data spec\n",
    "IMAGE_SIZE_X = 28\n",
    "IMAGE_SIZE_Y = 28\n",
    "IMAGE_SIZE = IMAGE_SIZE_X * IMAGE_SIZE_Y\n",
    "\n",
    "# NN Hyper-parameters\n",
    "INPUT_SIZE = IMAGE_SIZE\n",
    "LABELS_SIZE = 10\n",
    "HIDDEN_SIZE = 1024\n",
    "GRADIENT_DESCENT_STEP_SIZE = 1e-4 # aka 0.0001"
   ]
  },
  {
   "cell_type": "markdown",
   "metadata": {},
   "source": [
    "## Woot, here we define the actual Neural Network\n",
    "Note that in tensorflow each layer is declared as a 'lazy' function for future evaluation (see __[Eduonix tensorflow tutorial](https://www.youtube.com/watch?v=dmBgC-pEBIg&list=PLDmvslp_VR0z38Mpr8G3-5ob-GynDC2pH)__)\n",
    "\n",
    "So here we're just setting up the data flow, not executing the training algorithm."
   ]
  },
  {
   "cell_type": "code",
   "execution_count": 30,
   "metadata": {},
   "outputs": [],
   "source": [
    "layer_input = tf.placeholder(tf.float32, [None, INPUT_SIZE])\n",
    "layer_hidden = tf.layers.dense(inputs=layer_input, units=HIDDEN_SIZE, activation=tf.nn.relu)\n",
    "layer_output = tf.layers.dense(inputs=layer_hidden, units=LABELS_SIZE)"
   ]
  },
  {
   "cell_type": "markdown",
   "metadata": {},
   "source": [
    "In addition we'll define a tensorflow structure to hold the 'correct answer', i.e. the labels provided in the training data set."
   ]
  },
  {
   "cell_type": "code",
   "execution_count": 31,
   "metadata": {},
   "outputs": [],
   "source": [
    "layer_labels = tf.placeholder(tf.float32, [None, LABELS_SIZE])"
   ]
  },
  {
   "cell_type": "markdown",
   "metadata": {},
   "source": [
    "Here we define the 'loss' (aka 'error') function, ultimately to provide a scalar value representing the error between the guessed label and the 'correct' label. E.g. given a guess at the number \"5\":\n",
    "```\n",
    "layer_labels [0.0, 0.0, 0.0, 0.0, 0.0, 1.0, 0.0, 0.0, 0.0, 0.0] # correct answer\n",
    "layer_output [0.1, 0.0, 0.2, 0.0, 0.1, 0.7, 0.1, 0.2, 0.0, 0.1] # guess\n",
    "->\n",
    "0.35\n",
    "```\n",
    "Keep in mind there's an important subtlety here, where the tensorflow functions are designed to ingest entire *tensors*, so actually the loss function can ultimately be computed as a matrix operation on the entire 60000x784, 60000x10, 60000x10 input, output and label tensors respectively. Nevertheless IMHO there's value in mentally keeping track of this process in terms of an image at a time.\n",
    "\n",
    "Hopefully it now makes sense that the loss function works on the difference between the `layer_labels` and the the `layer_output` i.e. the \"correct answer\" and the \"guessed answer\"."
   ]
  },
  {
   "cell_type": "code",
   "execution_count": 32,
   "metadata": {},
   "outputs": [],
   "source": [
    "loss = tf.losses.softmax_cross_entropy(layer_labels, layer_output)"
   ]
  },
  {
   "cell_type": "markdown",
   "metadata": {},
   "source": [
    "Given the network defined above, we can now define the **backpropagation** training function.  This is the particular benefit of using tensorflow: each of the earlier layer definition functions has a pre-defined differential that can be used in a typical 'gradient descent'-type error minimisation algorithm.\n",
    "\n",
    "For our purposes we'll use the tensorflow-provided `AdamOptimizer()`, and you'll see we necessarily tell it the function to use (i.e. our `loss()` function) giving the error value that is to be minimized."
   ]
  },
  {
   "cell_type": "code",
   "execution_count": 33,
   "metadata": {},
   "outputs": [],
   "source": [
    "train_step = tf.train.AdamOptimizer(GRADIENT_DESCENT_STEP_SIZE).minimize(loss)"
   ]
  },
  {
   "cell_type": "markdown",
   "metadata": {},
   "source": [
    "As kind of an inverse consideration to the 0.0..1.0 `loss` function, we'll create an `accuracy` value which is what proportion of the time did the network get the guess 'right'. For these functions it is helpful to think of them given the entire 60000-row input tensor. \n",
    "\n",
    "The `correct_prediction` contains True where the `output` (aka guess) strongest suggestion matches the training label correct answer, e.g.\n",
    "```\n",
    "layer_labels [0.0, 0.0, 0.0, 0.0, 0.0, 1.0, 0.0, 0.0, 0.0, 0.0] # correct answer\n",
    "layer_output [0.1, 0.0, 0.2, 0.0, 0.1, 0.7, 0.1, 0.2, 0.0, 0.1] # guess\n",
    "->\n",
    "True\n",
    "```"
   ]
  },
  {
   "cell_type": "code",
   "execution_count": 34,
   "metadata": {},
   "outputs": [],
   "source": [
    "correct_prediction = tf.equal(tf.argmax(layer_output, 1), tf.argmax(layer_labels, 1))"
   ]
  },
  {
   "cell_type": "markdown",
   "metadata": {},
   "source": [
    "Our `accuracy` function uses tf.cast to convert each `correct_prediction` True and False to 1.0 and 0.0 respectively, and then find the arithmetic mean of the entire list. The average of the ones and zeroes is exactly the same as the proportion of ones (think about it)."
   ]
  },
  {
   "cell_type": "code",
   "execution_count": 35,
   "metadata": {},
   "outputs": [],
   "source": [
    "accuracy = tf.reduce_mean(tf.cast(correct_prediction, tf.float32))"
   ]
  },
  {
   "cell_type": "markdown",
   "metadata": {},
   "source": [
    "## Finally, here's where we run the training model\n",
    "\n",
    "Actually we run through the training data in 'steps', so for each step we can output an accuracy value. E.g. for the first step we could pass the first 1000 images through the network (0..999), output an accuracy value, then use images 1000..1999, then 2000..2999 etc. On each step we should see the accuracy improve."
   ]
  },
  {
   "cell_type": "code",
   "execution_count": 36,
   "metadata": {},
   "outputs": [
    {
     "name": "stdout",
     "output_type": "stream",
     "text": [
      "step   0 digits     0..12345 accuracy 0.108\n",
      "step   1 digits 12345..24690 accuracy 0.153\n",
      "step   2 digits 24690..37035 accuracy 0.203\n",
      "step   3 digits 37035..49380 accuracy 0.288\n",
      "step   4 digits  1725..14070 accuracy 0.373\n",
      "step   5 digits 14070..26415 accuracy 0.425\n",
      "step   6 digits 26415..38760 accuracy 0.483\n",
      "step   7 digits 38760..51105 accuracy 0.544\n",
      "step   8 digits  3450..15795 accuracy 0.590\n",
      "step   9 digits 15795..28140 accuracy 0.614\n",
      "step  10 digits 28140..40485 accuracy 0.634\n",
      "step  11 digits 40485..52830 accuracy 0.658\n",
      "step  12 digits  5175..17520 accuracy 0.679\n",
      "step  13 digits 17520..29865 accuracy 0.698\n",
      "step  14 digits 29865..42210 accuracy 0.700\n",
      "step  15 digits 42210..54555 accuracy 0.725\n",
      "step  16 digits  6900..19245 accuracy 0.722\n",
      "step  17 digits 19245..31590 accuracy 0.732\n",
      "step  18 digits 31590..43935 accuracy 0.746\n",
      "step  19 digits 43935..56280 accuracy 0.757\n",
      "step  20 digits  8625..20970 accuracy 0.756\n",
      "step  21 digits 20970..33315 accuracy 0.757\n",
      "step  22 digits 33315..45660 accuracy 0.771\n",
      "step  23 digits 45660..58005 accuracy 0.781\n",
      "step  24 digits 10350..22695 accuracy 0.772\n",
      "step  25 digits 22695..35040 accuracy 0.777\n",
      "step  26 digits 35040..47385 accuracy 0.788\n",
      "step  27 digits 47385..59730 accuracy 0.804\n",
      "step  28 digits 12075..24420 accuracy 0.784\n",
      "step  29 digits 24420..36765 accuracy 0.794\n",
      "step  30 digits 36765..49110 accuracy 0.798\n",
      "step  31 digits  1455..13800 accuracy 0.811\n",
      "step  32 digits 13800..26145 accuracy 0.797\n",
      "step  33 digits 26145..38490 accuracy 0.805\n",
      "step  34 digits 38490..50835 accuracy 0.807\n",
      "step  35 digits  3180..15525 accuracy 0.814\n",
      "step  36 digits 15525..27870 accuracy 0.812\n",
      "step  37 digits 27870..40215 accuracy 0.816\n",
      "step  38 digits 40215..52560 accuracy 0.817\n",
      "step  39 digits  4905..17250 accuracy 0.817\n",
      "step  40 digits 17250..29595 accuracy 0.825\n",
      "step  41 digits 29595..41940 accuracy 0.823\n",
      "step  42 digits 41940..54285 accuracy 0.824\n",
      "step  43 digits  6630..18975 accuracy 0.822\n",
      "step  44 digits 18975..31320 accuracy 0.829\n",
      "step  45 digits 31320..43665 accuracy 0.832\n",
      "step  46 digits 43665..56010 accuracy 0.835\n",
      "step  47 digits  8355..20700 accuracy 0.834\n",
      "step  48 digits 20700..33045 accuracy 0.831\n",
      "step  49 digits 33045..45390 accuracy 0.843\n",
      "step  50 digits 45390..57735 accuracy 0.844\n",
      "step  51 digits 10080..22425 accuracy 0.840\n",
      "step  52 digits 22425..34770 accuracy 0.840\n",
      "step  53 digits 34770..47115 accuracy 0.846\n",
      "step  54 digits 47115..59460 accuracy 0.858\n",
      "step  55 digits 11805..24150 accuracy 0.843\n",
      "step  56 digits 24150..36495 accuracy 0.849\n",
      "step  57 digits 36495..48840 accuracy 0.852\n",
      "step  58 digits  1185..13530 accuracy 0.859\n",
      "step  59 digits 13530..25875 accuracy 0.850\n",
      "step  60 digits 25875..38220 accuracy 0.855\n",
      "step  61 digits 38220..50565 accuracy 0.852\n",
      "step  62 digits  2910..15255 accuracy 0.858\n",
      "step  63 digits 15255..27600 accuracy 0.861\n",
      "step  64 digits 27600..39945 accuracy 0.858\n",
      "step  65 digits 39945..52290 accuracy 0.854\n",
      "step  66 digits  4635..16980 accuracy 0.858\n",
      "step  67 digits 16980..29325 accuracy 0.867\n",
      "step  68 digits 29325..41670 accuracy 0.860\n",
      "step  69 digits 41670..54015 accuracy 0.859\n",
      "step  70 digits  6360..18705 accuracy 0.861\n",
      "step  71 digits 18705..31050 accuracy 0.869\n",
      "step  72 digits 31050..43395 accuracy 0.866\n",
      "step  73 digits 43395..55740 accuracy 0.867\n",
      "step  74 digits  8085..20430 accuracy 0.868\n",
      "step  75 digits 20430..32775 accuracy 0.868\n",
      "step  76 digits 32775..45120 accuracy 0.873\n",
      "step  77 digits 45120..57465 accuracy 0.873\n",
      "step  78 digits  9810..22155 accuracy 0.875\n",
      "step  79 digits 22155..34500 accuracy 0.874\n",
      "step  80 digits 34500..46845 accuracy 0.874\n",
      "step  81 digits 46845..59190 accuracy 0.883\n",
      "step  82 digits 11535..23880 accuracy 0.874\n",
      "step  83 digits 23880..36225 accuracy 0.876\n",
      "step  84 digits 36225..48570 accuracy 0.877\n",
      "step  85 digits   915..13260 accuracy 0.884\n",
      "step  86 digits 13260..25605 accuracy 0.880\n",
      "step  87 digits 25605..37950 accuracy 0.878\n",
      "step  88 digits 37950..50295 accuracy 0.877\n",
      "step  89 digits  2640..14985 accuracy 0.883\n",
      "step  90 digits 14985..27330 accuracy 0.887\n",
      "step  91 digits 27330..39675 accuracy 0.882\n",
      "step  92 digits 39675..52020 accuracy 0.880\n",
      "step  93 digits  4365..16710 accuracy 0.883\n",
      "step  94 digits 16710..29055 accuracy 0.891\n",
      "step  95 digits 29055..41400 accuracy 0.882\n",
      "step  96 digits 41400..53745 accuracy 0.882\n",
      "step  97 digits  6090..18435 accuracy 0.882\n",
      "step  98 digits 18435..30780 accuracy 0.891\n",
      "step  99 digits 30780..43125 accuracy 0.885\n"
     ]
    }
   ],
   "source": [
    "sess = tf.InteractiveSession()\n",
    "sess.run(tf.global_variables_initializer())\n",
    "\n",
    "BATCH_SIZE = 12345\n",
    "STEPS_COUNT = 100\n",
    "(DATA_COUNT,_) = data_digits.shape\n",
    "\n",
    "cursor_start = 0\n",
    "cursor_finish = BATCH_SIZE\n",
    "\n",
    "# record start time\n",
    "START_TIME = time.process_time()\n",
    "\n",
    "# create lists to hold time, accuracy tuples\n",
    "graph_data_time = []\n",
    "graph_data_accuracy = []\n",
    "\n",
    "for i in range(STEPS_COUNT):\n",
    "    \n",
    "    # create input digits step_digits and asociated labels step_labels\n",
    "    step_digits = data_digits[cursor_start:cursor_finish]\n",
    "    step_labels = data_labels[cursor_start:cursor_finish]\n",
    "\n",
    "    # create tensorflow 'feed dictionary' that maps inputs to tensorflow tensors\n",
    "    feed_dict={layer_input: step_digits, layer_labels: step_labels}\n",
    "    \n",
    "    # do training run for this step\n",
    "    train_step.run(feed_dict=feed_dict)\n",
    "    \n",
    "    # calculate accuracy\n",
    "    train_accuracy = accuracy.eval(feed_dict=feed_dict)\n",
    "    \n",
    "    # note process time for this step in ns\n",
    "    execution_time_ns = time.process_time() - START_TIME\n",
    "    \n",
    "    graph_data_time.append(execution_time_ns)\n",
    "    graph_data_accuracy.append(train_accuracy)\n",
    "    \n",
    "    print('step {0:3d} digits {1:5d}..{2:5d} accuracy {3:.3f}'.format(i,cursor_start, cursor_finish, train_accuracy))\n",
    "    \n",
    "    # update cursor to select current 'step' of training data\n",
    "    cursor_start = cursor_finish # index into data_digits and data_labels for current step\n",
    "    cursor_finish = cursor_start + BATCH_SIZE # limit index for end of batch\n",
    "    if cursor_finish > DATA_COUNT:\n",
    "        cursor_start = cursor_finish - DATA_COUNT # wrap around to start of data\n",
    "        cursor_finish = cursor_start + BATCH_SIZE\n",
    "    \n",
    "sess.close()\n"
   ]
  },
  {
   "cell_type": "code",
   "execution_count": 37,
   "metadata": {},
   "outputs": [
    {
     "data": {
      "image/png": "[encoded data removed]",
      "text/plain": [
       "<Figure size 864x576 with 1 Axes>"
      ]
     },
     "metadata": {
      "needs_background": "light"
     },
     "output_type": "display_data"
    }
   ],
   "source": [
    "from matplotlib.ticker import MultipleLocator\n",
    "\n",
    "fig = plt.figure(figsize=(12,8))\n",
    "ax = fig.add_subplot(1, 1, 1)\n",
    "\n",
    "ax.set_title(\"NN 784->1024->10 Accuracy vs. Time(s)\", fontsize='large')\n",
    "\n",
    "## Set up Time x axis\n",
    "\n",
    "ax.set_xlabel(\"Time (s)\")\n",
    "# Min x axis value is 0 (so y-axis crosses at x=0)\n",
    "ax.set_xlim(left=0)\n",
    "# x ticks at 10s\n",
    "ax.set_xticks(np.arange(0.0,max(graph_data_time),10))\n",
    "ax.xaxis.grid(which='major', color='b', linewidth=1.3)\n",
    "\n",
    "## Set up Accuracy y axis\n",
    "\n",
    "ax.set_ylabel(\"Accuracy\")\n",
    "ax.set_ylim(bottom=0)\n",
    "# Set Accuracy tick locations and define horizontal grid lines\n",
    "minorLocator = MultipleLocator(0.05)\n",
    "majorLocator = MultipleLocator(0.1)\n",
    "ax.yaxis.set_minor_locator(minorLocator)\n",
    "ax.yaxis.set_major_locator(majorLocator)\n",
    "ax.yaxis.grid(which='major', color='b', linewidth=1.3)\n",
    "ax.yaxis.grid(which='minor', color='g')\n",
    "\n",
    "# Plot the chart\n",
    "ax.plot(graph_data_time, graph_data_accuracy)\n",
    "\n",
    "plt.minorticks_on()\n",
    "plt.xticks(rotation=90)\n",
    "plt.show(fig)"
   ]
  },
  {
   "cell_type": "code",
   "execution_count": null,
   "metadata": {},
   "outputs": [],
   "source": []
  }
 ],
 "metadata": {
  "kernelspec": {
   "display_name": "Python 3",
   "language": "python",
   "name": "python3"
  },
  "language_info": {
   "codemirror_mode": {
    "name": "ipython",
    "version": 3
   },
   "file_extension": ".py",
   "mimetype": "text/x-python",
   "name": "python",
   "nbconvert_exporter": "python",
   "pygments_lexer": "ipython3",
   "version": "3.6.5"
  }
 },
 "nbformat": 4,
 "nbformat_minor": 2
}
