{
 "cells": [
  {
   "cell_type": "markdown",
   "metadata": {},
   "source": [
    "# NN Train on MNIST digits"
   ]
  },
  {
   "cell_type": "markdown",
   "metadata": {},
   "source": [
    "## import MNIST TRAINING 28x28 digits\n",
    "CSV file each row is <category><pixels 0..783>"
   ]
  },
  {
   "cell_type": "code",
   "execution_count": 23,
   "metadata": {},
   "outputs": [],
   "source": [
    "DATA_DIR = '../../Data/mnist/' # contains mnist_train.csv file"
   ]
  },
  {
   "cell_type": "code",
   "execution_count": 24,
   "metadata": {},
   "outputs": [],
   "source": [
    "import math\n",
    "import random\n",
    "import numpy as np\n",
    "import time\n",
    "\n",
    "%matplotlib inline\n",
    "\n",
    "import matplotlib.image as mpimg\n",
    "import matplotlib.pyplot as plt"
   ]
  },
  {
   "cell_type": "code",
   "execution_count": 25,
   "metadata": {},
   "outputs": [],
   "source": [
    "def load_mnist():\n",
    "    print('Loading MNIST training data...')\n",
    "    file_data = np.loadtxt(DATA_DIR+'mnist_train.csv', delimiter = ',')\n",
    "    print('Loaded MNIST training data, shape {0} dtype {1}'.format(file_data.shape, file_data.dtype))\n",
    "    # extract first element (label) from each row of the data, and convert to one-hot 0..9\n",
    "    labels = file_data[:,0].astype(int) # 1st element of each row is label\n",
    "    print('labels.size {0}'.format(labels.size))\n",
    "    one_hot_labels = np.zeros((labels.size, 10)) # initialize same length array with 10-element zero vectors\n",
    "    one_hot_labels[np.arange(labels.size),labels] = 1 # set the n'th element of one-hot vector to 1 (n=label)\n",
    "    # extract the digit pixels\n",
    "    digits = file_data[:,1:] # remaining elements are 784-pixel vectors\n",
    "    digits -= digits.min() # scale the data so values are between 0 and 1\n",
    "    digits /= digits.max() # scale\n",
    "\n",
    "    return (one_hot_labels, digits)"
   ]
  },
  {
   "cell_type": "code",
   "execution_count": 26,
   "metadata": {},
   "outputs": [
    {
     "name": "stdout",
     "output_type": "stream",
     "text": [
      "Loading MNIST training data...\n",
      "Loaded MNIST training data, shape (60000, 785) dtype float64\n",
      "labels.size 60000\n"
     ]
    }
   ],
   "source": [
    "(data_labels,data_digits) = load_mnist()"
   ]
  },
  {
   "cell_type": "markdown",
   "metadata": {},
   "source": [
    "### Inspect the first digit\n",
    "Categorized as '5', i.e. categories[0] = 5\n",
    "digits[0] is a 784-element vector representing the 28x28 grayscale image"
   ]
  },
  {
   "cell_type": "code",
   "execution_count": 27,
   "metadata": {},
   "outputs": [
    {
     "data": {
      "text/plain": [
       "array([0., 0., 0., 0., 0., 1., 0., 0., 0., 0.])"
      ]
     },
     "execution_count": 27,
     "metadata": {},
     "output_type": "execute_result"
    }
   ],
   "source": [
    "data_labels[0]"
   ]
  },
  {
   "cell_type": "code",
   "execution_count": 28,
   "metadata": {},
   "outputs": [
    {
     "name": "stdout",
     "output_type": "stream",
     "text": [
      "(60000, 10) 600000\n",
      "(60000, 784)\n"
     ]
    }
   ],
   "source": [
    "print(data_labels.shape,data_labels.size)\n",
    "print(data_digits.shape)"
   ]
  },
  {
   "cell_type": "code",
   "execution_count": 29,
   "metadata": {},
   "outputs": [
    {
     "data": {
      "image/png": "[encoded data removed]",
      "text/plain": [
       "<Figure size 432x288 with 1 Axes>"
      ]
     },
     "metadata": {
      "needs_background": "light"
     },
     "output_type": "display_data"
    }
   ],
   "source": [
    "def print_digit(digit):\n",
    "    test_digit = np.mat(digit).reshape(28,28)\n",
    "    plt.imshow(test_digit, cmap='gray')\n",
    "    plt.show()\n",
    "    \n",
    "print_digit(data_digits[0])"
   ]
  },
  {
   "cell_type": "markdown",
   "metadata": {},
   "source": [
    "# Tensorflow"
   ]
  },
  {
   "cell_type": "code",
   "execution_count": 30,
   "metadata": {},
   "outputs": [
    {
     "name": "stdout",
     "output_type": "stream",
     "text": [
      "[ 5 12 21 32]\n"
     ]
    },
    {
     "name": "stderr",
     "output_type": "stream",
     "text": [
      "/home/ijl20/src/jupyterlab/venv/lib/python3.6/site-packages/tensorflow/python/client/session.py:1702: UserWarning: An interactive session is already active. This can cause out-of-memory errors in some cases. You must explicitly call `InteractiveSession.close()` to release resources held by the other session(s).\n",
      "  warnings.warn('An interactive session is already active. This can '\n"
     ]
    }
   ],
   "source": [
    "import tensorflow as tf\n",
    "\n",
    "sess = tf.InteractiveSession()\n",
    "\n",
    "x1 = tf.constant([1,2,3,4])\n",
    "x2 = tf.constant([5,6,7,8])\n",
    "result = tf.multiply(x1,x2)\n",
    "print(sess.run(result))\n",
    "sess.close()"
   ]
  },
  {
   "cell_type": "markdown",
   "metadata": {},
   "source": [
    "Print the max and min values of the pixels in all the digits"
   ]
  },
  {
   "cell_type": "code",
   "execution_count": 31,
   "metadata": {},
   "outputs": [
    {
     "data": {
      "text/plain": [
       "1.0"
      ]
     },
     "execution_count": 31,
     "metadata": {},
     "output_type": "execute_result"
    }
   ],
   "source": [
    "data_digits.max()"
   ]
  },
  {
   "cell_type": "code",
   "execution_count": 32,
   "metadata": {},
   "outputs": [
    {
     "data": {
      "text/plain": [
       "0.0"
      ]
     },
     "execution_count": 32,
     "metadata": {},
     "output_type": "execute_result"
    }
   ],
   "source": [
    "data_digits.min()"
   ]
  },
  {
   "cell_type": "markdown",
   "metadata": {},
   "source": [
    "## Define the CNN\n",
    "\n",
    "We start by defining input layer n x 784, and a labels layer n x 10"
   ]
  },
  {
   "cell_type": "code",
   "execution_count": 33,
   "metadata": {},
   "outputs": [],
   "source": [
    "IMAGE_SIZE_X = 28\n",
    "IMAGE_SIZE_Y = 28\n",
    "IMAGE_SIZE = IMAGE_SIZE_X * IMAGE_SIZE_Y\n",
    "LABELS_SIZE = 10\n",
    "\n",
    "layer_input = tf.placeholder(tf.float32, [None, IMAGE_SIZE])\n",
    "\n",
    "layer_labels = tf.placeholder(tf.float32, [None, LABELS_SIZE])"
   ]
  },
  {
   "cell_type": "markdown",
   "metadata": {},
   "source": [
    "Create next input layer by reshaping 1x784 input into 28x28"
   ]
  },
  {
   "cell_type": "code",
   "execution_count": 34,
   "metadata": {},
   "outputs": [],
   "source": [
    "layer_input2d = tf.reshape(layer_input, [-1,IMAGE_SIZE_X,IMAGE_SIZE_Y,1])"
   ]
  },
  {
   "cell_type": "markdown",
   "metadata": {},
   "source": [
    "Define convolution layer 5x5x32, i.e. 32 filters, each 5x5"
   ]
  },
  {
   "cell_type": "code",
   "execution_count": 35,
   "metadata": {},
   "outputs": [],
   "source": [
    "layer_conv1 = tf.layers.conv2d(inputs=layer_input2d, filters=32, kernel_size=[5, 5], padding=\"same\", activation=tf.nn.relu)"
   ]
  },
  {
   "cell_type": "markdown",
   "metadata": {},
   "source": [
    "Define max pooling layer 2x2"
   ]
  },
  {
   "cell_type": "code",
   "execution_count": 36,
   "metadata": {},
   "outputs": [],
   "source": [
    "layer_pool1 = tf.layers.max_pooling2d(inputs=layer_conv1, pool_size=[2, 2], strides=2)"
   ]
  },
  {
   "cell_type": "markdown",
   "metadata": {},
   "source": [
    "Flatten maxpool output"
   ]
  },
  {
   "cell_type": "code",
   "execution_count": 37,
   "metadata": {},
   "outputs": [],
   "source": [
    "#layer_pool_flat = tf.reshape(layer_pool1, [-1, 14 * 14 * 32])\n",
    "layer_pool_flat = tf.layers.flatten(layer_pool1)"
   ]
  },
  {
   "cell_type": "markdown",
   "metadata": {},
   "source": [
    "Define hidden layer 1x1024"
   ]
  },
  {
   "cell_type": "code",
   "execution_count": 38,
   "metadata": {},
   "outputs": [],
   "source": [
    "layer_hidden = tf.layers.dense(inputs=layer_pool_flat, units=1024, activation=tf.nn.relu)"
   ]
  },
  {
   "cell_type": "markdown",
   "metadata": {},
   "source": [
    "Define output layer for categories 1x10"
   ]
  },
  {
   "cell_type": "code",
   "execution_count": 39,
   "metadata": {},
   "outputs": [],
   "source": [
    "layer_output = tf.layers.dense(inputs=layer_hidden, units=LABELS_SIZE)"
   ]
  },
  {
   "cell_type": "markdown",
   "metadata": {},
   "source": [
    "Define loss function as softmax cross-entropy between output and training labels"
   ]
  },
  {
   "cell_type": "code",
   "execution_count": 40,
   "metadata": {},
   "outputs": [],
   "source": [
    "loss = tf.losses.softmax_cross_entropy(layer_labels, layer_output)"
   ]
  },
  {
   "cell_type": "markdown",
   "metadata": {},
   "source": [
    "Define backpropagation training step"
   ]
  },
  {
   "cell_type": "code",
   "execution_count": 41,
   "metadata": {},
   "outputs": [],
   "source": [
    "train_step = tf.train.AdamOptimizer(1e-3).minimize(loss)"
   ]
  },
  {
   "cell_type": "markdown",
   "metadata": {},
   "source": [
    "Define accuracy metric:\n",
    "\n",
    "    a prediction is 'correct' if the output category is the same as the label category,\n",
    "    \n",
    "    i.e. the output and labels are expressed as a 1x10 vector of values 0..1 where the index of the highest (max) value represents the category\n",
    "    \n",
    "    Accuracy (for our purposes) is the proportion (0..1) of the results that are 'correct'. \n",
    "    We calculate this value by scoring a correct result as '1' and an incorrect result as '0', \n",
    "    and computing the arithmetic mean of all the values. Hence '0,1,0,1,1' gives mean (and our accuracy) of 0.6."
   ]
  },
  {
   "cell_type": "code",
   "execution_count": 42,
   "metadata": {},
   "outputs": [],
   "source": [
    "correct_prediction = tf.equal(tf.argmax(layer_output, 1), tf.argmax(layer_labels, 1))"
   ]
  },
  {
   "cell_type": "code",
   "execution_count": 43,
   "metadata": {},
   "outputs": [],
   "source": [
    "accuracy = tf.reduce_mean(tf.cast(correct_prediction, tf.float32))"
   ]
  },
  {
   "cell_type": "markdown",
   "metadata": {},
   "source": [
    "## OK, let's create a session and run this model..."
   ]
  },
  {
   "cell_type": "code",
   "execution_count": 44,
   "metadata": {},
   "outputs": [
    {
     "name": "stdout",
     "output_type": "stream",
     "text": [
      "Starting training, 50 steps of 12345 images\n",
      "step   0 digits     0..12345 accuracy 0.685\n",
      "step   1 digits 12345..24690 accuracy 0.802\n",
      "step   2 digits 24690..37035 accuracy 0.822\n",
      "step   3 digits 37035..49380 accuracy 0.828\n",
      "step   4 digits  1725..14070 accuracy 0.853\n",
      "step   5 digits 14070..26415 accuracy 0.863\n",
      "step   6 digits 26415..38760 accuracy 0.867\n",
      "step   7 digits 38760..51105 accuracy 0.872\n",
      "step   8 digits  3450..15795 accuracy 0.894\n",
      "step   9 digits 15795..28140 accuracy 0.898\n",
      "step  10 digits 28140..40485 accuracy 0.896\n",
      "step  11 digits 40485..52830 accuracy 0.899\n",
      "step  12 digits  5175..17520 accuracy 0.906\n",
      "step  13 digits 17520..29865 accuracy 0.914\n",
      "step  14 digits 29865..42210 accuracy 0.912\n",
      "step  15 digits 42210..54555 accuracy 0.915\n",
      "step  16 digits  6900..19245 accuracy 0.915\n",
      "step  17 digits 19245..31590 accuracy 0.924\n",
      "step  18 digits 31590..43935 accuracy 0.923\n",
      "step  19 digits 43935..56280 accuracy 0.926\n",
      "step  20 digits  8625..20970 accuracy 0.926\n",
      "step  21 digits 20970..33315 accuracy 0.931\n",
      "step  22 digits 33315..45660 accuracy 0.932\n",
      "step  23 digits 45660..58005 accuracy 0.938\n",
      "step  24 digits 10350..22695 accuracy 0.937\n",
      "step  25 digits 22695..35040 accuracy 0.940\n",
      "step  26 digits 35040..47385 accuracy 0.941\n",
      "step  27 digits 47385..59730 accuracy 0.948\n",
      "step  28 digits 12075..24420 accuracy 0.945\n",
      "step  29 digits 24420..36765 accuracy 0.946\n",
      "step  30 digits 36765..49110 accuracy 0.946\n",
      "step  31 digits  1455..13800 accuracy 0.952\n",
      "step  32 digits 13800..26145 accuracy 0.953\n",
      "step  33 digits 26145..38490 accuracy 0.949\n",
      "step  34 digits 38490..50835 accuracy 0.952\n",
      "step  35 digits  3180..15525 accuracy 0.954\n",
      "step  36 digits 15525..27870 accuracy 0.959\n",
      "step  37 digits 27870..40215 accuracy 0.957\n",
      "step  38 digits 40215..52560 accuracy 0.958\n",
      "step  39 digits  4905..17250 accuracy 0.957\n",
      "step  40 digits 17250..29595 accuracy 0.964\n",
      "step  41 digits 29595..41940 accuracy 0.961\n",
      "step  42 digits 41940..54285 accuracy 0.962\n",
      "step  43 digits  6630..18975 accuracy 0.962\n",
      "step  44 digits 18975..31320 accuracy 0.967\n",
      "step  45 digits 31320..43665 accuracy 0.965\n",
      "step  46 digits 43665..56010 accuracy 0.966\n",
      "step  47 digits  8355..20700 accuracy 0.967\n",
      "step  48 digits 20700..33045 accuracy 0.968\n",
      "step  49 digits 33045..45390 accuracy 0.969\n",
      "Run complete\n"
     ]
    }
   ],
   "source": [
    "sess = tf.InteractiveSession()\n",
    "sess.run(tf.global_variables_initializer())\n",
    "\n",
    "\n",
    "BATCH_SIZE = 12345\n",
    "STEPS_COUNT = 50\n",
    "(DATA_COUNT,_) = data_digits.shape\n",
    "\n",
    "cursor_start = 0\n",
    "cursor_finish = BATCH_SIZE\n",
    "\n",
    "# record start time\n",
    "START_TIME = time.process_time()\n",
    "\n",
    "# create lists to hold time, accuracy tuples\n",
    "graph_data_time = []\n",
    "graph_data_accuracy = []\n",
    "\n",
    "print('Starting training, {0} steps of {1} images'.format(STEPS_COUNT,BATCH_SIZE))\n",
    "\n",
    "for i in range(STEPS_COUNT):\n",
    "    # create input digits step_digits and asociated labels step_labels\n",
    "    step_digits = data_digits[cursor_start:cursor_finish]\n",
    "    step_labels = data_labels[cursor_start:cursor_finish]\n",
    "\n",
    "    # create tensorflow 'feed dictionary' that maps inputs to tensorflow tensors\n",
    "    feed_dict={layer_input: step_digits, layer_labels: step_labels}\n",
    "    \n",
    "    # do training run for this step\n",
    "    train_step.run(feed_dict=feed_dict)\n",
    "    \n",
    "    # calculate accuracy\n",
    "    train_accuracy = accuracy.eval(feed_dict=feed_dict)\n",
    "    \n",
    "    # note process time for this step in ns\n",
    "    execution_time_ns = time.process_time() - START_TIME\n",
    "    \n",
    "    graph_data_time.append(execution_time_ns)\n",
    "    graph_data_accuracy.append(train_accuracy)\n",
    "    \n",
    "    print('step {0:3d} digits {1:5d}..{2:5d} accuracy {3:.3f}'.format(i,cursor_start, cursor_finish, train_accuracy))\n",
    "    \n",
    "    # update cursor to select current 'step' of training data\n",
    "    cursor_start = cursor_finish # index into data_digits and data_labels for current step\n",
    "    cursor_finish = cursor_start + BATCH_SIZE # limit index for end of batch\n",
    "    if cursor_finish > DATA_COUNT:\n",
    "        cursor_start = cursor_finish - DATA_COUNT # wrap around to start of data\n",
    "        cursor_finish = cursor_start + BATCH_SIZE\n",
    "    \n",
    "kernel = tf.get_collection(tf.GraphKeys.GLOBAL_VARIABLES, 'layer_conv1/kernel')\n",
    "\n",
    "print('Run complete')\n",
    "sess.close()"
   ]
  },
  {
   "cell_type": "code",
   "execution_count": 45,
   "metadata": {},
   "outputs": [
    {
     "data": {
      "image/png": "[encoded data removed]",
      "text/plain": [
       "<Figure size 1296x864 with 1 Axes>"
      ]
     },
     "metadata": {
      "needs_background": "light"
     },
     "output_type": "display_data"
    }
   ],
   "source": [
    "from matplotlib.ticker import MultipleLocator\n",
    "\n",
    "fig = plt.figure(figsize=(18,12))\n",
    "ax = fig.add_subplot(1, 1, 1)\n",
    "\n",
    "ax.set_title(\"MNIST CNN 784->28x28->conv(5x5x32)->max_pool[2,2]->6272->1024->10 Accuracy vs. Time(s)\", fontsize='large')\n",
    "\n",
    "## Set up Time x axis\n",
    "\n",
    "ax.set_xlabel(\"Time (s)\")\n",
    "# Min x axis value is 0 (so y-axis crosses at x=0)\n",
    "ax.set_xlim(left=0)\n",
    "# x ticks at 10s\n",
    "ax.set_xticks(np.arange(0.0,max(graph_data_time),STEPS_COUNT))\n",
    "ax.xaxis.grid(which='major', color='b', linewidth=1.3)\n",
    "\n",
    "## Set up Accuracy y axis\n",
    "\n",
    "ax.set_ylabel(\"Accuracy\")\n",
    "ax.set_ylim(bottom=0)\n",
    "# Set Accuracy tick locations and define horizontal grid lines\n",
    "minorLocator = MultipleLocator(0.05)\n",
    "majorLocator = MultipleLocator(0.1)\n",
    "ax.yaxis.set_minor_locator(minorLocator)\n",
    "ax.yaxis.set_major_locator(majorLocator)\n",
    "ax.yaxis.grid(which='major', color='b', linewidth=1.3)\n",
    "ax.yaxis.grid(which='minor', color='g')\n",
    "\n",
    "# Plot the chart\n",
    "ax.plot(graph_data_time, graph_data_accuracy)\n",
    "\n",
    "plt.minorticks_on()\n",
    "plt.xticks(rotation=90)\n",
    "plt.show(fig)"
   ]
  },
  {
   "cell_type": "code",
   "execution_count": null,
   "metadata": {},
   "outputs": [],
   "source": []
  }
 ],
 "metadata": {
  "kernelspec": {
   "display_name": "Python 3",
   "language": "python",
   "name": "python3"
  },
  "language_info": {
   "codemirror_mode": {
    "name": "ipython",
    "version": 3
   },
   "file_extension": ".py",
   "mimetype": "text/x-python",
   "name": "python",
   "nbconvert_exporter": "python",
   "pygments_lexer": "ipython3",
   "version": "3.6.7"
  }
 },
 "nbformat": 4,
 "nbformat_minor": 2
}
