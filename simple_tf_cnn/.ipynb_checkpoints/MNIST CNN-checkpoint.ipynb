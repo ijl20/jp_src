{
 "cells": [
  {
   "cell_type": "markdown",
   "metadata": {},
   "source": [
    "# NN Train on MNIST digits"
   ]
  },
  {
   "cell_type": "markdown",
   "metadata": {},
   "source": [
    "## import MNIST TRAINING 28x28 digits\n",
    "CSV file each row is <category><pixels 0..783>"
   ]
  },
  {
   "cell_type": "code",
   "execution_count": 1,
   "metadata": {},
   "outputs": [],
   "source": [
    "DATA_DIR = '../../Data/mnist/' # contains mnist_train.csv file"
   ]
  },
  {
   "cell_type": "code",
   "execution_count": 2,
   "metadata": {},
   "outputs": [],
   "source": [
    "import math\n",
    "import random\n",
    "import numpy as np\n",
    "import time\n",
    "\n",
    "%matplotlib inline\n",
    "\n",
    "import matplotlib.image as mpimg\n",
    "import matplotlib.pyplot as plt"
   ]
  },
  {
   "cell_type": "code",
   "execution_count": 3,
   "metadata": {},
   "outputs": [],
   "source": [
    "def load_mnist():\n",
    "    print('Loading MNIST training data...')\n",
    "    file_data = np.loadtxt(DATA_DIR+'mnist_train.csv', delimiter = ',')\n",
    "    print('Loaded MNIST training data, shape {0} dtype {1}'.format(file_data.shape, file_data.dtype))\n",
    "    # extract first element (label) from each row of the data, and convert to one-hot 0..9\n",
    "    labels = file_data[:,0].astype(int) # 1st element of each row is label\n",
    "    print('labels.size {0}'.format(labels.size))\n",
    "    one_hot_labels = np.zeros((labels.size, 10)) # initialize same length array with 10-element zero vectors\n",
    "    one_hot_labels[np.arange(labels.size),labels] = 1 # set the n'th element of one-hot vector to 1 (n=label)\n",
    "    # extract the digit pixels\n",
    "    digits = file_data[:,1:] # remaining elements are 784-pixel vectors\n",
    "    digits -= digits.min() # scale the data so values are between 0 and 1\n",
    "    digits /= digits.max() # scale\n",
    "\n",
    "    return (one_hot_labels, digits)"
   ]
  },
  {
   "cell_type": "code",
   "execution_count": 4,
   "metadata": {},
   "outputs": [
    {
     "name": "stdout",
     "output_type": "stream",
     "text": [
      "Loading MNIST training data...\n",
      "Loaded MNIST training data, shape (60000, 785) dtype float64\n",
      "labels.size 60000\n"
     ]
    }
   ],
   "source": [
    "(data_labels,data_digits) = load_mnist()"
   ]
  },
  {
   "cell_type": "markdown",
   "metadata": {},
   "source": [
    "### Inspect the first digit\n",
    "Categorized as '5', i.e. categories[0] = 5\n",
    "digits[0] is a 784-element vector representing the 28x28 grayscale image"
   ]
  },
  {
   "cell_type": "code",
   "execution_count": 5,
   "metadata": {},
   "outputs": [
    {
     "data": {
      "text/plain": [
       "array([0., 0., 0., 0., 0., 1., 0., 0., 0., 0.])"
      ]
     },
     "execution_count": 5,
     "metadata": {},
     "output_type": "execute_result"
    }
   ],
   "source": [
    "data_labels[0]"
   ]
  },
  {
   "cell_type": "code",
   "execution_count": 6,
   "metadata": {},
   "outputs": [
    {
     "name": "stdout",
     "output_type": "stream",
     "text": [
      "(60000, 10) 600000\n",
      "(60000, 784)\n"
     ]
    }
   ],
   "source": [
    "print(data_labels.shape,data_labels.size)\n",
    "print(data_digits.shape)"
   ]
  },
  {
   "cell_type": "code",
   "execution_count": 7,
   "metadata": {},
   "outputs": [
    {
     "data": {
      "image/png": "[encoded data removed]",
      "text/plain": [
       "<Figure size 432x288 with 1 Axes>"
      ]
     },
     "metadata": {
      "needs_background": "light"
     },
     "output_type": "display_data"
    }
   ],
   "source": [
    "def print_digit(digit):\n",
    "    test_digit = np.mat(digit).reshape(28,28)\n",
    "    plt.imshow(test_digit, cmap='gray')\n",
    "    plt.show()\n",
    "    \n",
    "print_digit(data_digits[0])"
   ]
  },
  {
   "cell_type": "markdown",
   "metadata": {},
   "source": [
    "# Tensorflow"
   ]
  },
  {
   "cell_type": "code",
   "execution_count": 8,
   "metadata": {},
   "outputs": [
    {
     "name": "stdout",
     "output_type": "stream",
     "text": [
      "[ 5 12 21 32]\n"
     ]
    }
   ],
   "source": [
    "import tensorflow as tf\n",
    "\n",
    "sess = tf.InteractiveSession()\n",
    "\n",
    "x1 = tf.constant([1,2,3,4])\n",
    "x2 = tf.constant([5,6,7,8])\n",
    "result = tf.multiply(x1,x2)\n",
    "print(sess.run(result))\n",
    "sess.close()"
   ]
  },
  {
   "cell_type": "markdown",
   "metadata": {},
   "source": [
    "Print the max and min values of the pixels in all the digits"
   ]
  },
  {
   "cell_type": "code",
   "execution_count": 9,
   "metadata": {},
   "outputs": [
    {
     "data": {
      "text/plain": [
       "1.0"
      ]
     },
     "execution_count": 9,
     "metadata": {},
     "output_type": "execute_result"
    }
   ],
   "source": [
    "data_digits.max()"
   ]
  },
  {
   "cell_type": "code",
   "execution_count": 10,
   "metadata": {},
   "outputs": [
    {
     "data": {
      "text/plain": [
       "0.0"
      ]
     },
     "execution_count": 10,
     "metadata": {},
     "output_type": "execute_result"
    }
   ],
   "source": [
    "data_digits.min()"
   ]
  },
  {
   "cell_type": "markdown",
   "metadata": {},
   "source": [
    "## Define the CNN\n",
    "\n",
    "We start by defining input layer n x 784, and a labels layer n x 10"
   ]
  },
  {
   "cell_type": "code",
   "execution_count": 11,
   "metadata": {},
   "outputs": [],
   "source": [
    "IMAGE_SIZE_X = 28\n",
    "IMAGE_SIZE_Y = 28\n",
    "IMAGE_SIZE = IMAGE_SIZE_X * IMAGE_SIZE_Y\n",
    "LABELS_SIZE = 10\n",
    "\n",
    "layer_input = tf.placeholder(tf.float32, [None, IMAGE_SIZE])\n",
    "\n",
    "layer_labels = tf.placeholder(tf.float32, [None, LABELS_SIZE])"
   ]
  },
  {
   "cell_type": "markdown",
   "metadata": {},
   "source": [
    "Create next input layer by reshaping 1x784 input into 28x28"
   ]
  },
  {
   "cell_type": "code",
   "execution_count": 12,
   "metadata": {},
   "outputs": [],
   "source": [
    "layer_input2d = tf.reshape(layer_input, [-1,IMAGE_SIZE_X,IMAGE_SIZE_Y,1])"
   ]
  },
  {
   "cell_type": "markdown",
   "metadata": {},
   "source": [
    "Define convolution layer 5x5x32, i.e. 32 filters, each 5x5"
   ]
  },
  {
   "cell_type": "code",
   "execution_count": 13,
   "metadata": {},
   "outputs": [],
   "source": [
    "layer_conv1 = tf.layers.conv2d(inputs=layer_input2d, filters=32, kernel_size=[5, 5], padding=\"same\", activation=tf.nn.relu)"
   ]
  },
  {
   "cell_type": "markdown",
   "metadata": {},
   "source": [
    "Define max pooling layer 2x2"
   ]
  },
  {
   "cell_type": "code",
   "execution_count": 14,
   "metadata": {},
   "outputs": [],
   "source": [
    "layer_pool1 = tf.layers.max_pooling2d(inputs=layer_conv1, pool_size=[2, 2], strides=2)"
   ]
  },
  {
   "cell_type": "markdown",
   "metadata": {},
   "source": [
    "Flatten maxpool output"
   ]
  },
  {
   "cell_type": "code",
   "execution_count": 15,
   "metadata": {},
   "outputs": [],
   "source": [
    "#layer_pool_flat = tf.reshape(layer_pool1, [-1, 14 * 14 * 32])\n",
    "layer_pool_flat = tf.layers.flatten(layer_pool1)"
   ]
  },
  {
   "cell_type": "markdown",
   "metadata": {},
   "source": [
    "Define hidden layer 1x1024"
   ]
  },
  {
   "cell_type": "code",
   "execution_count": 16,
   "metadata": {},
   "outputs": [],
   "source": [
    "layer_hidden = tf.layers.dense(inputs=layer_pool_flat, units=1024, activation=tf.nn.relu)"
   ]
  },
  {
   "cell_type": "markdown",
   "metadata": {},
   "source": [
    "Define output layer for categories 1x10"
   ]
  },
  {
   "cell_type": "code",
   "execution_count": 17,
   "metadata": {},
   "outputs": [],
   "source": [
    "layer_output = tf.layers.dense(inputs=layer_hidden, units=LABELS_SIZE)"
   ]
  },
  {
   "cell_type": "markdown",
   "metadata": {},
   "source": [
    "Define loss function as softmax cross-entropy between output and training labels"
   ]
  },
  {
   "cell_type": "code",
   "execution_count": 18,
   "metadata": {},
   "outputs": [],
   "source": [
    "loss = tf.losses.softmax_cross_entropy(layer_labels, layer_output)"
   ]
  },
  {
   "cell_type": "markdown",
   "metadata": {},
   "source": [
    "Define backpropagation training step"
   ]
  },
  {
   "cell_type": "code",
   "execution_count": 19,
   "metadata": {},
   "outputs": [],
   "source": [
    "train_step = tf.train.AdamOptimizer(1e-3).minimize(loss)"
   ]
  },
  {
   "cell_type": "markdown",
   "metadata": {},
   "source": [
    "Define accuracy metric:\n",
    "\n",
    "    a prediction is 'correct' if the output category is the same as the label category,\n",
    "    \n",
    "    i.e. the output and labels are expressed as a 1x10 vector of values 0..1 where the index of the highest (max) value represents the category\n",
    "    \n",
    "    Accuracy (for our purposes) is the proportion (0..1) of the results that are 'correct'. \n",
    "    We calculate this value by scoring a correct result as '1' and an incorrect result as '0', \n",
    "    and computing the arithmetic mean of all the values. Hence '0,1,0,1,1' gives mean (and our accuracy) of 0.6."
   ]
  },
  {
   "cell_type": "code",
   "execution_count": 20,
   "metadata": {},
   "outputs": [],
   "source": [
    "correct_prediction = tf.equal(tf.argmax(layer_output, 1), tf.argmax(layer_labels, 1))"
   ]
  },
  {
   "cell_type": "code",
   "execution_count": 21,
   "metadata": {},
   "outputs": [],
   "source": [
    "accuracy = tf.reduce_mean(tf.cast(correct_prediction, tf.float32))"
   ]
  },
  {
   "cell_type": "markdown",
   "metadata": {},
   "source": [
    "## OK, let's create a session and run this model..."
   ]
  },
  {
   "cell_type": "code",
   "execution_count": 22,
   "metadata": {},
   "outputs": [
    {
     "name": "stdout",
     "output_type": "stream",
     "text": [
      "Starting training, 3 steps of 12345 images\n",
      "step   0 digits 12345..24690 accuracy 0.620\n",
      "step   1 digits 24690..37035 accuracy 0.799\n",
      "step   2 digits 37035..49380 accuracy 0.804\n",
      "Run complete\n"
     ]
    }
   ],
   "source": [
    "sess = tf.InteractiveSession()\n",
    "sess.run(tf.global_variables_initializer())\n",
    "\n",
    "STEP_SIZE = 12345\n",
    "STEPS_COUNT = 3\n",
    "(DATA_COUNT,_) = data_digits.shape\n",
    "\n",
    "step_cursor = 0\n",
    "\n",
    "# record start time\n",
    "START_TIME = time.process_time()\n",
    "\n",
    "# create lists to hold time, accuracy tuples\n",
    "graph_data_time = [0]     # initialize with x=0, y=0 for first point\n",
    "graph_data_accuracy = [0]\n",
    "\n",
    "print('Starting training, {0} steps of {1} images'.format(STEPS_COUNT,STEP_SIZE))\n",
    "\n",
    "for i in range(STEPS_COUNT):\n",
    "    # update cursor to select current 'step' of training data\n",
    "    step_cursor += STEP_SIZE # index into data_digits and data_labels for current step\n",
    "    step_limit = step_cursor + STEP_SIZE # limit index for end of batch\n",
    "    if step_limit > DATA_COUNT:\n",
    "        step_cursor = step_limit - DATA_COUNT # wrap around to start of data\n",
    "        step_limit = STEP_SIZE\n",
    "    \n",
    "    # create input digits step_digits and asociated labels step_labels\n",
    "    step_digits = data_digits[step_cursor:step_limit]\n",
    "    step_labels = data_labels[step_cursor:step_limit]\n",
    "\n",
    "    # create tensorflow 'feed dictionary' that maps inputs to tensorflow tensors\n",
    "    feed_dict={layer_input: step_digits, layer_labels: step_labels}\n",
    "    \n",
    "    # do training run for this step\n",
    "    train_step.run(feed_dict=feed_dict)\n",
    "    \n",
    "    # calculate accuracy\n",
    "    train_accuracy = accuracy.eval(feed_dict=feed_dict)\n",
    "    \n",
    "    # note process time for this step in ns\n",
    "    execution_time_ns = time.process_time() - START_TIME\n",
    "    \n",
    "    graph_data_time.append(execution_time_ns)\n",
    "    graph_data_accuracy.append(train_accuracy)\n",
    "    \n",
    "    print('step {0:3d} digits {1:5d}..{2:5d} accuracy {3:.3f}'.format(i,step_cursor, step_limit, train_accuracy))\n",
    "    \n",
    "kernel = tf.get_collection(tf.GraphKeys.GLOBAL_VARIABLES, 'layer_conv1/kernel')\n",
    "\n",
    "print('Run complete')\n",
    "sess.close()"
   ]
  },
  {
   "cell_type": "code",
   "execution_count": 23,
   "metadata": {},
   "outputs": [
    {
     "data": {
      "image/png": "[encoded data removed]",
      "text/plain": [
       "<Figure size 1296x864 with 1 Axes>"
      ]
     },
     "metadata": {
      "needs_background": "light"
     },
     "output_type": "display_data"
    }
   ],
   "source": [
    "from matplotlib.ticker import MultipleLocator\n",
    "\n",
    "fig = plt.figure(figsize=(18,12))\n",
    "ax = fig.add_subplot(1, 1, 1)\n",
    "\n",
    "ax.set_title(\"MNIST CNN 784->28x28->conv(5x5x32)->max_pool[2,2]->6272->1024->10 Accuracy vs. Time(s)\", fontsize='large')\n",
    "\n",
    "## Set up Time x axis\n",
    "\n",
    "ax.set_xlabel(\"Time (s)\")\n",
    "# Min x axis value is 0 (so y-axis crosses at x=0)\n",
    "ax.set_xlim(left=0)\n",
    "# x ticks at 10s\n",
    "ax.set_xticks(np.arange(0.0,max(graph_data_time),STEPS_COUNT))\n",
    "ax.xaxis.grid(which='major', color='b', linewidth=1.3)\n",
    "\n",
    "## Set up Accuracy y axis\n",
    "\n",
    "ax.set_ylabel(\"Accuracy\")\n",
    "ax.set_ylim(bottom=0)\n",
    "# Set Accuracy tick locations and define horizontal grid lines\n",
    "minorLocator = MultipleLocator(0.05)\n",
    "majorLocator = MultipleLocator(0.1)\n",
    "ax.yaxis.set_minor_locator(minorLocator)\n",
    "ax.yaxis.set_major_locator(majorLocator)\n",
    "ax.yaxis.grid(which='major', color='b', linewidth=1.3)\n",
    "ax.yaxis.grid(which='minor', color='g')\n",
    "\n",
    "# Plot the chart\n",
    "ax.plot(graph_data_time, graph_data_accuracy)\n",
    "\n",
    "plt.minorticks_on()\n",
    "plt.xticks(rotation=90)\n",
    "plt.show(fig)"
   ]
  },
  {
   "cell_type": "code",
   "execution_count": null,
   "metadata": {},
   "outputs": [],
   "source": []
  }
 ],
 "metadata": {
  "kernelspec": {
   "display_name": "Python 3",
   "language": "python",
   "name": "python3"
  },
  "language_info": {
   "codemirror_mode": {
    "name": "ipython",
    "version": 3
   },
   "file_extension": ".py",
   "mimetype": "text/x-python",
   "name": "python",
   "nbconvert_exporter": "python",
   "pygments_lexer": "ipython3",
   "version": "3.6.5"
  }
 },
 "nbformat": 4,
 "nbformat_minor": 2
}
